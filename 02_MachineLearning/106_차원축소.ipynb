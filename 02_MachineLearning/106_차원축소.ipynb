{
 "cells": [
  {
   "cell_type": "markdown",
   "id": "157d40f4",
   "metadata": {},
   "source": [
    "<img src=\"https://i.esdrop.com/d/7o0dj05m8rnz/JNGCMedl18.png\" width=\"45%\">"
   ]
  },
  {
   "cell_type": "markdown",
   "id": "50aff1d3",
   "metadata": {},
   "source": [
    "# Dimension Reduction - 차원 축소"
   ]
  },
  {
   "cell_type": "markdown",
   "id": "f2249a65",
   "metadata": {},
   "source": [
    "---"
   ]
  },
  {
   "cell_type": "code",
   "execution_count": 1,
   "id": "2ed289f0",
   "metadata": {},
   "outputs": [],
   "source": [
    "# Visual Python: Data Analysis > Import\n",
    "import numpy as np\n",
    "import pandas as pd\n",
    "import matplotlib.pyplot as plt\n",
    "%matplotlib inline\n",
    "import seaborn as sns"
   ]
  },
  {
   "cell_type": "markdown",
   "id": "61d2b2d5",
   "metadata": {},
   "source": [
    "# 1 PCA(Principal Component Analysis) - 주성분 분석"
   ]
  },
  {
   "cell_type": "markdown",
   "id": "dfc7e3ed",
   "metadata": {},
   "source": [
    "- 피처 선택(Feature selection)\n",
    "- 피처 추출(Feature extraction)"
   ]
  },
  {
   "cell_type": "markdown",
   "id": "99588700",
   "metadata": {},
   "source": [
    "### 1.1 PCA 적용 - Iris 데이터 셋"
   ]
  },
  {
   "cell_type": "markdown",
   "id": "e8722bff",
   "metadata": {},
   "source": [
    "#### 1.1.1 데이터 로딩"
   ]
  },
  {
   "cell_type": "code",
   "execution_count": 2,
   "id": "aa1a381d",
   "metadata": {},
   "outputs": [
    {
     "data": {
      "text/html": [
       "<div>\n",
       "<style scoped>\n",
       "    .dataframe tbody tr th:only-of-type {\n",
       "        vertical-align: middle;\n",
       "    }\n",
       "\n",
       "    .dataframe tbody tr th {\n",
       "        vertical-align: top;\n",
       "    }\n",
       "\n",
       "    .dataframe thead th {\n",
       "        text-align: right;\n",
       "    }\n",
       "</style>\n",
       "<table border=\"1\" class=\"dataframe\">\n",
       "  <thead>\n",
       "    <tr style=\"text-align: right;\">\n",
       "      <th></th>\n",
       "      <th>sepal length (cm)</th>\n",
       "      <th>sepal width (cm)</th>\n",
       "      <th>petal length (cm)</th>\n",
       "      <th>petal width (cm)</th>\n",
       "      <th>target</th>\n",
       "    </tr>\n",
       "  </thead>\n",
       "  <tbody>\n",
       "    <tr>\n",
       "      <th>0</th>\n",
       "      <td>5.1</td>\n",
       "      <td>3.5</td>\n",
       "      <td>1.4</td>\n",
       "      <td>0.2</td>\n",
       "      <td>0</td>\n",
       "    </tr>\n",
       "    <tr>\n",
       "      <th>1</th>\n",
       "      <td>4.9</td>\n",
       "      <td>3.0</td>\n",
       "      <td>1.4</td>\n",
       "      <td>0.2</td>\n",
       "      <td>0</td>\n",
       "    </tr>\n",
       "    <tr>\n",
       "      <th>2</th>\n",
       "      <td>4.7</td>\n",
       "      <td>3.2</td>\n",
       "      <td>1.3</td>\n",
       "      <td>0.2</td>\n",
       "      <td>0</td>\n",
       "    </tr>\n",
       "    <tr>\n",
       "      <th>3</th>\n",
       "      <td>4.6</td>\n",
       "      <td>3.1</td>\n",
       "      <td>1.5</td>\n",
       "      <td>0.2</td>\n",
       "      <td>0</td>\n",
       "    </tr>\n",
       "    <tr>\n",
       "      <th>4</th>\n",
       "      <td>5.0</td>\n",
       "      <td>3.6</td>\n",
       "      <td>1.4</td>\n",
       "      <td>0.2</td>\n",
       "      <td>0</td>\n",
       "    </tr>\n",
       "    <tr>\n",
       "      <th>...</th>\n",
       "      <td>...</td>\n",
       "      <td>...</td>\n",
       "      <td>...</td>\n",
       "      <td>...</td>\n",
       "      <td>...</td>\n",
       "    </tr>\n",
       "    <tr>\n",
       "      <th>145</th>\n",
       "      <td>6.7</td>\n",
       "      <td>3.0</td>\n",
       "      <td>5.2</td>\n",
       "      <td>2.3</td>\n",
       "      <td>2</td>\n",
       "    </tr>\n",
       "    <tr>\n",
       "      <th>146</th>\n",
       "      <td>6.3</td>\n",
       "      <td>2.5</td>\n",
       "      <td>5.0</td>\n",
       "      <td>1.9</td>\n",
       "      <td>2</td>\n",
       "    </tr>\n",
       "    <tr>\n",
       "      <th>147</th>\n",
       "      <td>6.5</td>\n",
       "      <td>3.0</td>\n",
       "      <td>5.2</td>\n",
       "      <td>2.0</td>\n",
       "      <td>2</td>\n",
       "    </tr>\n",
       "    <tr>\n",
       "      <th>148</th>\n",
       "      <td>6.2</td>\n",
       "      <td>3.4</td>\n",
       "      <td>5.4</td>\n",
       "      <td>2.3</td>\n",
       "      <td>2</td>\n",
       "    </tr>\n",
       "    <tr>\n",
       "      <th>149</th>\n",
       "      <td>5.9</td>\n",
       "      <td>3.0</td>\n",
       "      <td>5.1</td>\n",
       "      <td>1.8</td>\n",
       "      <td>2</td>\n",
       "    </tr>\n",
       "  </tbody>\n",
       "</table>\n",
       "<p>150 rows × 5 columns</p>\n",
       "</div>"
      ],
      "text/plain": [
       "     sepal length (cm)  sepal width (cm)  petal length (cm)  petal width (cm)  \\\n",
       "0                  5.1               3.5                1.4               0.2   \n",
       "1                  4.9               3.0                1.4               0.2   \n",
       "2                  4.7               3.2                1.3               0.2   \n",
       "3                  4.6               3.1                1.5               0.2   \n",
       "4                  5.0               3.6                1.4               0.2   \n",
       "..                 ...               ...                ...               ...   \n",
       "145                6.7               3.0                5.2               2.3   \n",
       "146                6.3               2.5                5.0               1.9   \n",
       "147                6.5               3.0                5.2               2.0   \n",
       "148                6.2               3.4                5.4               2.3   \n",
       "149                5.9               3.0                5.1               1.8   \n",
       "\n",
       "     target  \n",
       "0         0  \n",
       "1         0  \n",
       "2         0  \n",
       "3         0  \n",
       "4         0  \n",
       "..      ...  \n",
       "145       2  \n",
       "146       2  \n",
       "147       2  \n",
       "148       2  \n",
       "149       2  \n",
       "\n",
       "[150 rows x 5 columns]"
      ]
     },
     "execution_count": 2,
     "metadata": {},
     "output_type": "execute_result"
    }
   ],
   "source": [
    "# Visual Python: Machine Learning > Data Sets\n",
    "from sklearn.datasets import load_iris\n",
    "\n",
    "ldata = load_iris()\n",
    "# Create DataFrame\n",
    "df_ldata = pd.DataFrame(data=ldata.data, columns=ldata.feature_names)\n",
    "df_ldata['target'] = ldata.target\n",
    "df_ldata"
   ]
  },
  {
   "cell_type": "markdown",
   "id": "9a372056",
   "metadata": {},
   "source": [
    "#### 1.1.2 데이터 시각화"
   ]
  },
  {
   "cell_type": "code",
   "execution_count": 3,
   "id": "afb64ba9",
   "metadata": {},
   "outputs": [
    {
     "data": {
      "image/png": "[encoded data removed]",
      "text/plain": [
       "<Figure size 640x480 with 1 Axes>"
      ]
     },
     "metadata": {},
     "output_type": "display_data"
    }
   ],
   "source": [
    "# Visual Python: Visualization > Seaborn\n",
    "sns.scatterplot(data=df_ldata, x='sepal length (cm)', y='sepal width (cm)', hue='target')\n",
    "plt.show()"
   ]
  },
  {
   "cell_type": "markdown",
   "id": "0b5756c7",
   "metadata": {},
   "source": [
    "#### 1.1.3 데이터 스케일링"
   ]
  },
  {
   "cell_type": "code",
   "execution_count": 4,
   "id": "117f8d4c",
   "metadata": {},
   "outputs": [],
   "source": [
    "# Visual Python: Machine Learning > Data Prep\n",
    "from sklearn.preprocessing import StandardScaler\n",
    "\n",
    "scaler = StandardScaler()"
   ]
  },
  {
   "cell_type": "code",
   "execution_count": 5,
   "id": "1e59c337",
   "metadata": {
    "scrolled": false
   },
   "outputs": [],
   "source": [
    "# Visual Python: Machine Learning > Fit/Predict\n",
    "X_scaled = scaler.fit_transform(df_ldata[['sepal length (cm)', 'sepal width (cm)', 'petal length (cm)', 'petal width (cm)']])"
   ]
  },
  {
   "cell_type": "markdown",
   "id": "737b51b0",
   "metadata": {},
   "source": [
    "#### 1.2.4 PCA 적용"
   ]
  },
  {
   "cell_type": "code",
   "execution_count": 6,
   "id": "db4a30ad",
   "metadata": {},
   "outputs": [],
   "source": [
    "# Visual Python: Machine Learning > Dimension\n",
    "from sklearn.decomposition import PCA\n",
    "\n",
    "pca = PCA(n_components=2)"
   ]
  },
  {
   "cell_type": "code",
   "execution_count": 7,
   "id": "4edce76a",
   "metadata": {},
   "outputs": [
    {
     "data": {
      "text/plain": [
       "array([[-2.26470281,  0.4800266 ],\n",
       "       [-2.08096115, -0.67413356],\n",
       "       [-2.36422905, -0.34190802],\n",
       "       [-2.29938422, -0.59739451],\n",
       "       [-2.38984217,  0.64683538],\n",
       "       [-2.07563095,  1.48917752],\n",
       "       [-2.44402884,  0.0476442 ],\n",
       "       [-2.23284716,  0.22314807],\n",
       "       [-2.33464048, -1.11532768],\n",
       "       [-2.18432817, -0.46901356],\n",
       "       [-2.1663101 ,  1.04369065],\n",
       "       [-2.32613087,  0.13307834],\n",
       "       [-2.2184509 , -0.72867617],\n",
       "       [-2.6331007 , -0.96150673],\n",
       "       [-2.1987406 ,  1.86005711],\n",
       "       [-2.26221453,  2.68628449],\n",
       "       [-2.2075877 ,  1.48360936],\n",
       "       [-2.19034951,  0.48883832],\n",
       "       [-1.898572  ,  1.40501879],\n",
       "       [-2.34336905,  1.12784938],\n",
       "       [-1.914323  ,  0.40885571],\n",
       "       [-2.20701284,  0.92412143],\n",
       "       [-2.7743447 ,  0.45834367],\n",
       "       [-1.81866953,  0.08555853],\n",
       "       [-2.22716331,  0.13725446],\n",
       "       [-1.95184633, -0.62561859],\n",
       "       [-2.05115137,  0.24216355],\n",
       "       [-2.16857717,  0.52714953],\n",
       "       [-2.13956345,  0.31321781],\n",
       "       [-2.26526149, -0.3377319 ],\n",
       "       [-2.14012214, -0.50454069],\n",
       "       [-1.83159477,  0.42369507],\n",
       "       [-2.61494794,  1.79357586],\n",
       "       [-2.44617739,  2.15072788],\n",
       "       [-2.10997488, -0.46020184],\n",
       "       [-2.2078089 , -0.2061074 ],\n",
       "       [-2.04514621,  0.66155811],\n",
       "       [-2.52733191,  0.59229277],\n",
       "       [-2.42963258, -0.90418004],\n",
       "       [-2.16971071,  0.26887896],\n",
       "       [-2.28647514,  0.44171539],\n",
       "       [-1.85812246, -2.33741516],\n",
       "       [-2.5536384 , -0.47910069],\n",
       "       [-1.96444768,  0.47232667],\n",
       "       [-2.13705901,  1.14222926],\n",
       "       [-2.0697443 , -0.71105273],\n",
       "       [-2.38473317,  1.1204297 ],\n",
       "       [-2.39437631, -0.38624687],\n",
       "       [-2.22944655,  0.99795976],\n",
       "       [-2.20383344,  0.00921636],\n",
       "       [ 1.10178118,  0.86297242],\n",
       "       [ 0.73133743,  0.59461473],\n",
       "       [ 1.24097932,  0.61629765],\n",
       "       [ 0.40748306, -1.75440399],\n",
       "       [ 1.0754747 , -0.20842105],\n",
       "       [ 0.38868734, -0.59328364],\n",
       "       [ 0.74652974,  0.77301931],\n",
       "       [-0.48732274, -1.85242909],\n",
       "       [ 0.92790164,  0.03222608],\n",
       "       [ 0.01142619, -1.03401828],\n",
       "       [-0.11019628, -2.65407282],\n",
       "       [ 0.44069345, -0.06329519],\n",
       "       [ 0.56210831, -1.76472438],\n",
       "       [ 0.71956189, -0.18622461],\n",
       "       [-0.0333547 , -0.43900321],\n",
       "       [ 0.87540719,  0.50906396],\n",
       "       [ 0.35025167, -0.19631173],\n",
       "       [ 0.15881005, -0.79209574],\n",
       "       [ 1.22509363, -1.6222438 ],\n",
       "       [ 0.1649179 , -1.30260923],\n",
       "       [ 0.73768265,  0.39657156],\n",
       "       [ 0.47628719, -0.41732028],\n",
       "       [ 1.2341781 , -0.93332573],\n",
       "       [ 0.6328582 , -0.41638772],\n",
       "       [ 0.70266118, -0.06341182],\n",
       "       [ 0.87427365,  0.25079339],\n",
       "       [ 1.25650912, -0.07725602],\n",
       "       [ 1.35840512,  0.33131168],\n",
       "       [ 0.66480037, -0.22592785],\n",
       "       [-0.04025861, -1.05871855],\n",
       "       [ 0.13079518, -1.56227183],\n",
       "       [ 0.02345269, -1.57247559],\n",
       "       [ 0.24153827, -0.77725638],\n",
       "       [ 1.06109461, -0.63384324],\n",
       "       [ 0.22397877, -0.28777351],\n",
       "       [ 0.42913912,  0.84558224],\n",
       "       [ 1.04872805,  0.5220518 ],\n",
       "       [ 1.04453138, -1.38298872],\n",
       "       [ 0.06958832, -0.21950333],\n",
       "       [ 0.28347724, -1.32932464],\n",
       "       [ 0.27907778, -1.12002852],\n",
       "       [ 0.62456979,  0.02492303],\n",
       "       [ 0.33653037, -0.98840402],\n",
       "       [-0.36218338, -2.01923787],\n",
       "       [ 0.28858624, -0.85573032],\n",
       "       [ 0.09136066, -0.18119213],\n",
       "       [ 0.22771687, -0.38492008],\n",
       "       [ 0.57638829, -0.1548736 ],\n",
       "       [-0.44766702, -1.54379203],\n",
       "       [ 0.25673059, -0.5988518 ],\n",
       "       [ 1.84456887,  0.87042131],\n",
       "       [ 1.15788161, -0.69886986],\n",
       "       [ 2.20526679,  0.56201048],\n",
       "       [ 1.44015066, -0.04698759],\n",
       "       [ 1.86781222,  0.29504482],\n",
       "       [ 2.75187334,  0.8004092 ],\n",
       "       [ 0.36701769, -1.56150289],\n",
       "       [ 2.30243944,  0.42006558],\n",
       "       [ 2.00668647, -0.71143865],\n",
       "       [ 2.25977735,  1.92101038],\n",
       "       [ 1.36417549,  0.69275645],\n",
       "       [ 1.60267867, -0.42170045],\n",
       "       [ 1.8839007 ,  0.41924965],\n",
       "       [ 1.2601151 , -1.16226042],\n",
       "       [ 1.4676452 , -0.44227159],\n",
       "       [ 1.59007732,  0.67624481],\n",
       "       [ 1.47143146,  0.25562182],\n",
       "       [ 2.42632899,  2.55666125],\n",
       "       [ 3.31069558,  0.01778095],\n",
       "       [ 1.26376667, -1.70674538],\n",
       "       [ 2.0377163 ,  0.91046741],\n",
       "       [ 0.97798073, -0.57176432],\n",
       "       [ 2.89765149,  0.41364106],\n",
       "       [ 1.33323218, -0.48181122],\n",
       "       [ 1.7007339 ,  1.01392187],\n",
       "       [ 1.95432671,  1.0077776 ],\n",
       "       [ 1.17510363, -0.31639447],\n",
       "       [ 1.02095055,  0.06434603],\n",
       "       [ 1.78834992, -0.18736121],\n",
       "       [ 1.86364755,  0.56229073],\n",
       "       [ 2.43595373,  0.25928443],\n",
       "       [ 2.30492772,  2.62632347],\n",
       "       [ 1.86270322, -0.17854949],\n",
       "       [ 1.11414774, -0.29292262],\n",
       "       [ 1.2024733 , -0.81131527],\n",
       "       [ 2.79877045,  0.85680333],\n",
       "       [ 1.57625591,  1.06858111],\n",
       "       [ 1.3462921 ,  0.42243061],\n",
       "       [ 0.92482492,  0.0172231 ],\n",
       "       [ 1.85204505,  0.67612817],\n",
       "       [ 2.01481043,  0.61388564],\n",
       "       [ 1.90178409,  0.68957549],\n",
       "       [ 1.15788161, -0.69886986],\n",
       "       [ 2.04055823,  0.8675206 ],\n",
       "       [ 1.9981471 ,  1.04916875],\n",
       "       [ 1.87050329,  0.38696608],\n",
       "       [ 1.56458048, -0.89668681],\n",
       "       [ 1.5211705 ,  0.26906914],\n",
       "       [ 1.37278779,  1.01125442],\n",
       "       [ 0.96065603, -0.02433167]])"
      ]
     },
     "execution_count": 7,
     "metadata": {},
     "output_type": "execute_result"
    }
   ],
   "source": [
    "# Visual Python: Machine Learning > Fit/Predict\n",
    "X_pca = pca.fit_transform(X_scaled)\n",
    "X_pca"
   ]
  },
  {
   "cell_type": "code",
   "execution_count": 8,
   "id": "a9332a14",
   "metadata": {},
   "outputs": [
    {
     "name": "stdout",
     "output_type": "stream",
     "text": [
      "원본 데이터 형태: (150, 4)\n",
      "PCA 적용된 데이터 형태: (150, 2)\n"
     ]
    }
   ],
   "source": [
    "print('원본 데이터 형태:', X_scaled.shape)\n",
    "print('PCA 적용된 데이터 형태:', X_pca.shape)"
   ]
  },
  {
   "cell_type": "markdown",
   "id": "183a55eb",
   "metadata": {},
   "source": [
    "#### 1.2.5 PCA 성분\n",
    "- 정보를 담고 있는 비율"
   ]
  },
  {
   "cell_type": "code",
   "execution_count": 9,
   "id": "3efb3fc8",
   "metadata": {},
   "outputs": [
    {
     "data": {
      "text/plain": [
       "array([0.72962445, 0.22850762])"
      ]
     },
     "execution_count": 9,
     "metadata": {},
     "output_type": "execute_result"
    }
   ],
   "source": [
    "# Visual Python: Machine Learning > Model Info\n",
    "ratio = pca.explained_variance_ratio_\n",
    "ratio"
   ]
  },
  {
   "cell_type": "markdown",
   "id": "cea76b5e",
   "metadata": {},
   "source": [
    "#### 1.2.6 PCA 적용된 DataFrame 생성"
   ]
  },
  {
   "cell_type": "code",
   "execution_count": 10,
   "id": "158fc83a",
   "metadata": {},
   "outputs": [
    {
     "data": {
      "text/html": [
       "<div>\n",
       "<style scoped>\n",
       "    .dataframe tbody tr th:only-of-type {\n",
       "        vertical-align: middle;\n",
       "    }\n",
       "\n",
       "    .dataframe tbody tr th {\n",
       "        vertical-align: top;\n",
       "    }\n",
       "\n",
       "    .dataframe thead th {\n",
       "        text-align: right;\n",
       "    }\n",
       "</style>\n",
       "<table border=\"1\" class=\"dataframe\">\n",
       "  <thead>\n",
       "    <tr style=\"text-align: right;\">\n",
       "      <th></th>\n",
       "      <th>col1</th>\n",
       "      <th>col2</th>\n",
       "      <th>target</th>\n",
       "    </tr>\n",
       "  </thead>\n",
       "  <tbody>\n",
       "    <tr>\n",
       "      <th>0</th>\n",
       "      <td>-2.264703</td>\n",
       "      <td>0.480027</td>\n",
       "      <td>0</td>\n",
       "    </tr>\n",
       "    <tr>\n",
       "      <th>1</th>\n",
       "      <td>-2.080961</td>\n",
       "      <td>-0.674134</td>\n",
       "      <td>0</td>\n",
       "    </tr>\n",
       "    <tr>\n",
       "      <th>2</th>\n",
       "      <td>-2.364229</td>\n",
       "      <td>-0.341908</td>\n",
       "      <td>0</td>\n",
       "    </tr>\n",
       "    <tr>\n",
       "      <th>3</th>\n",
       "      <td>-2.299384</td>\n",
       "      <td>-0.597395</td>\n",
       "      <td>0</td>\n",
       "    </tr>\n",
       "    <tr>\n",
       "      <th>4</th>\n",
       "      <td>-2.389842</td>\n",
       "      <td>0.646835</td>\n",
       "      <td>0</td>\n",
       "    </tr>\n",
       "    <tr>\n",
       "      <th>...</th>\n",
       "      <td>...</td>\n",
       "      <td>...</td>\n",
       "      <td>...</td>\n",
       "    </tr>\n",
       "    <tr>\n",
       "      <th>145</th>\n",
       "      <td>1.870503</td>\n",
       "      <td>0.386966</td>\n",
       "      <td>2</td>\n",
       "    </tr>\n",
       "    <tr>\n",
       "      <th>146</th>\n",
       "      <td>1.564580</td>\n",
       "      <td>-0.896687</td>\n",
       "      <td>2</td>\n",
       "    </tr>\n",
       "    <tr>\n",
       "      <th>147</th>\n",
       "      <td>1.521170</td>\n",
       "      <td>0.269069</td>\n",
       "      <td>2</td>\n",
       "    </tr>\n",
       "    <tr>\n",
       "      <th>148</th>\n",
       "      <td>1.372788</td>\n",
       "      <td>1.011254</td>\n",
       "      <td>2</td>\n",
       "    </tr>\n",
       "    <tr>\n",
       "      <th>149</th>\n",
       "      <td>0.960656</td>\n",
       "      <td>-0.024332</td>\n",
       "      <td>2</td>\n",
       "    </tr>\n",
       "  </tbody>\n",
       "</table>\n",
       "<p>150 rows × 3 columns</p>\n",
       "</div>"
      ],
      "text/plain": [
       "         col1      col2  target\n",
       "0   -2.264703  0.480027       0\n",
       "1   -2.080961 -0.674134       0\n",
       "2   -2.364229 -0.341908       0\n",
       "3   -2.299384 -0.597395       0\n",
       "4   -2.389842  0.646835       0\n",
       "..        ...       ...     ...\n",
       "145  1.870503  0.386966       2\n",
       "146  1.564580 -0.896687       2\n",
       "147  1.521170  0.269069       2\n",
       "148  1.372788  1.011254       2\n",
       "149  0.960656 -0.024332       2\n",
       "\n",
       "[150 rows x 3 columns]"
      ]
     },
     "execution_count": 10,
     "metadata": {},
     "output_type": "execute_result"
    }
   ],
   "source": [
    "df_pca = pd.DataFrame(X_pca, columns=['col1', 'col2'])\n",
    "\n",
    "df_pca['target']= df_ldata['target']\n",
    "df_pca"
   ]
  },
  {
   "cell_type": "markdown",
   "id": "29d847e1",
   "metadata": {},
   "source": [
    "#### 1.2.7 PCA 적용된 데이터 시각화"
   ]
  },
  {
   "cell_type": "code",
   "execution_count": 11,
   "id": "bd659652",
   "metadata": {},
   "outputs": [
    {
     "data": {
      "image/png": "[encoded data removed]",
      "text/plain": [
       "<Figure size 640x480 with 1 Axes>"
      ]
     },
     "metadata": {},
     "output_type": "display_data"
    }
   ],
   "source": [
    "# Visual Python: Visualization > Seaborn\n",
    "sns.scatterplot(data=df_pca, x='col1', y='col2', hue='target')\n",
    "plt.show()"
   ]
  },
  {
   "cell_type": "markdown",
   "id": "f65adbca",
   "metadata": {},
   "source": [
    "#### 1.2.8 분류 예측: 원본 데이터 사용"
   ]
  },
  {
   "cell_type": "code",
   "execution_count": 12,
   "id": "131c02ce",
   "metadata": {},
   "outputs": [
    {
     "data": {
      "text/markdown": [
       "### Confusion Matrix"
      ],
      "text/plain": [
       "<IPython.core.display.Markdown object>"
      ]
     },
     "metadata": {},
     "output_type": "display_data"
    },
    {
     "data": {
      "text/html": [
       "<div>\n",
       "<style scoped>\n",
       "    .dataframe tbody tr th:only-of-type {\n",
       "        vertical-align: middle;\n",
       "    }\n",
       "\n",
       "    .dataframe tbody tr th {\n",
       "        vertical-align: top;\n",
       "    }\n",
       "\n",
       "    .dataframe thead th {\n",
       "        text-align: right;\n",
       "    }\n",
       "</style>\n",
       "<table border=\"1\" class=\"dataframe\">\n",
       "  <thead>\n",
       "    <tr style=\"text-align: right;\">\n",
       "      <th>col_0</th>\n",
       "      <th>0</th>\n",
       "      <th>1</th>\n",
       "      <th>2</th>\n",
       "      <th>All</th>\n",
       "    </tr>\n",
       "    <tr>\n",
       "      <th>target</th>\n",
       "      <th></th>\n",
       "      <th></th>\n",
       "      <th></th>\n",
       "      <th></th>\n",
       "    </tr>\n",
       "  </thead>\n",
       "  <tbody>\n",
       "    <tr>\n",
       "      <th>0</th>\n",
       "      <td>12</td>\n",
       "      <td>0</td>\n",
       "      <td>0</td>\n",
       "      <td>12</td>\n",
       "    </tr>\n",
       "    <tr>\n",
       "      <th>1</th>\n",
       "      <td>0</td>\n",
       "      <td>11</td>\n",
       "      <td>0</td>\n",
       "      <td>11</td>\n",
       "    </tr>\n",
       "    <tr>\n",
       "      <th>2</th>\n",
       "      <td>0</td>\n",
       "      <td>1</td>\n",
       "      <td>14</td>\n",
       "      <td>15</td>\n",
       "    </tr>\n",
       "    <tr>\n",
       "      <th>All</th>\n",
       "      <td>12</td>\n",
       "      <td>12</td>\n",
       "      <td>14</td>\n",
       "      <td>38</td>\n",
       "    </tr>\n",
       "  </tbody>\n",
       "</table>\n",
       "</div>"
      ],
      "text/plain": [
       "col_0    0   1   2  All\n",
       "target                 \n",
       "0       12   0   0   12\n",
       "1        0  11   0   11\n",
       "2        0   1  14   15\n",
       "All     12  12  14   38"
      ]
     },
     "metadata": {},
     "output_type": "display_data"
    },
    {
     "name": "stdout",
     "output_type": "stream",
     "text": [
      "              precision    recall  f1-score   support\n",
      "\n",
      "           0       1.00      1.00      1.00        12\n",
      "           1       0.92      1.00      0.96        11\n",
      "           2       1.00      0.93      0.97        15\n",
      "\n",
      "    accuracy                           0.97        38\n",
      "   macro avg       0.97      0.98      0.97        38\n",
      "weighted avg       0.98      0.97      0.97        38\n",
      "\n"
     ]
    }
   ],
   "source": [
    "# Visual Python: Machine Learning > Pipeline\n",
    "# [1] Data Split\n",
    "from sklearn.model_selection import train_test_split\n",
    "\n",
    "X_train, X_test, y_train, y_test = train_test_split(df_ldata[['sepal length (cm)', 'sepal width (cm)', 'petal length (cm)', 'petal width (cm)']], df_ldata['target'])\n",
    "\n",
    "# [2] Classifier\n",
    "from sklearn.ensemble import RandomForestClassifier\n",
    "\n",
    "model = RandomForestClassifier()\n",
    "\n",
    "# [3] Fit\n",
    "model.fit(X_train, y_train)\n",
    "\n",
    "# [4] Predict\n",
    "pred = model.predict(X_test)\n",
    "\n",
    "# [5] Evaluation\n",
    "from sklearn import metrics\n",
    "from IPython.display import display, Markdown\n",
    "# Confusion Matrix\n",
    "display(Markdown('### Confusion Matrix'))\n",
    "display(pd.crosstab(y_test, pred, margins=True))\n",
    "# Classification report\n",
    "print(metrics.classification_report(y_test, pred))"
   ]
  },
  {
   "cell_type": "markdown",
   "id": "2222325f",
   "metadata": {},
   "source": [
    "#### 1.2.9 분류 예측: PCA 적용된 데이터 사용"
   ]
  },
  {
   "cell_type": "code",
   "execution_count": 13,
   "id": "9ddd597d",
   "metadata": {},
   "outputs": [
    {
     "data": {
      "text/markdown": [
       "### Confusion Matrix"
      ],
      "text/plain": [
       "<IPython.core.display.Markdown object>"
      ]
     },
     "metadata": {},
     "output_type": "display_data"
    },
    {
     "data": {
      "text/html": [
       "<div>\n",
       "<style scoped>\n",
       "    .dataframe tbody tr th:only-of-type {\n",
       "        vertical-align: middle;\n",
       "    }\n",
       "\n",
       "    .dataframe tbody tr th {\n",
       "        vertical-align: top;\n",
       "    }\n",
       "\n",
       "    .dataframe thead th {\n",
       "        text-align: right;\n",
       "    }\n",
       "</style>\n",
       "<table border=\"1\" class=\"dataframe\">\n",
       "  <thead>\n",
       "    <tr style=\"text-align: right;\">\n",
       "      <th>col_0</th>\n",
       "      <th>0</th>\n",
       "      <th>1</th>\n",
       "      <th>2</th>\n",
       "      <th>All</th>\n",
       "    </tr>\n",
       "    <tr>\n",
       "      <th>target</th>\n",
       "      <th></th>\n",
       "      <th></th>\n",
       "      <th></th>\n",
       "      <th></th>\n",
       "    </tr>\n",
       "  </thead>\n",
       "  <tbody>\n",
       "    <tr>\n",
       "      <th>0</th>\n",
       "      <td>13</td>\n",
       "      <td>0</td>\n",
       "      <td>0</td>\n",
       "      <td>13</td>\n",
       "    </tr>\n",
       "    <tr>\n",
       "      <th>1</th>\n",
       "      <td>0</td>\n",
       "      <td>5</td>\n",
       "      <td>3</td>\n",
       "      <td>8</td>\n",
       "    </tr>\n",
       "    <tr>\n",
       "      <th>2</th>\n",
       "      <td>0</td>\n",
       "      <td>0</td>\n",
       "      <td>17</td>\n",
       "      <td>17</td>\n",
       "    </tr>\n",
       "    <tr>\n",
       "      <th>All</th>\n",
       "      <td>13</td>\n",
       "      <td>5</td>\n",
       "      <td>20</td>\n",
       "      <td>38</td>\n",
       "    </tr>\n",
       "  </tbody>\n",
       "</table>\n",
       "</div>"
      ],
      "text/plain": [
       "col_0    0  1   2  All\n",
       "target                \n",
       "0       13  0   0   13\n",
       "1        0  5   3    8\n",
       "2        0  0  17   17\n",
       "All     13  5  20   38"
      ]
     },
     "metadata": {},
     "output_type": "display_data"
    },
    {
     "name": "stdout",
     "output_type": "stream",
     "text": [
      "              precision    recall  f1-score   support\n",
      "\n",
      "           0       1.00      1.00      1.00        13\n",
      "           1       1.00      0.62      0.77         8\n",
      "           2       0.85      1.00      0.92        17\n",
      "\n",
      "    accuracy                           0.92        38\n",
      "   macro avg       0.95      0.88      0.90        38\n",
      "weighted avg       0.93      0.92      0.92        38\n",
      "\n"
     ]
    }
   ],
   "source": [
    "# Visual Python: Machine Learning > Pipeline\n",
    "# [1] Data Split\n",
    "from sklearn.model_selection import train_test_split\n",
    "\n",
    "X_train, X_test, y_train, y_test = train_test_split(df_pca[['col1', 'col2']], df_pca['target'])\n",
    "\n",
    "# [2] Classifier\n",
    "from sklearn.ensemble import RandomForestClassifier\n",
    "\n",
    "model = RandomForestClassifier()\n",
    "\n",
    "# [3] Fit\n",
    "model.fit(X_train, y_train)\n",
    "\n",
    "# [4] Predict\n",
    "pred = model.predict(X_test)\n",
    "\n",
    "# [5] Evaluation\n",
    "from sklearn import metrics\n",
    "from IPython.display import display, Markdown\n",
    "# Confusion Matrix\n",
    "display(Markdown('### Confusion Matrix'))\n",
    "display(pd.crosstab(y_test, pred, margins=True))\n",
    "# Classification report\n",
    "print(metrics.classification_report(y_test, pred))"
   ]
  },
  {
   "cell_type": "code",
   "execution_count": null,
   "id": "a4f9ac52",
   "metadata": {},
   "outputs": [],
   "source": []
  },
  {
   "cell_type": "markdown",
   "id": "f076fa13",
   "metadata": {},
   "source": [
    "---"
   ]
  },
  {
   "cell_type": "code",
   "execution_count": 14,
   "id": "810a4484",
   "metadata": {},
   "outputs": [],
   "source": [
    "# End of file"
   ]
  },
  {
   "cell_type": "code",
   "execution_count": null,
   "id": "96ce6113",
   "metadata": {},
   "outputs": [],
   "source": []
  }
 ],
 "metadata": {
  "kernelspec": {
   "display_name": "Python 3 (ipykernel)",
   "language": "python",
   "name": "python3"
  },
  "language_info": {
   "codemirror_mode": {
    "name": "ipython",
    "version": 3
   },
   "file_extension": ".py",
   "mimetype": "text/x-python",
   "name": "python",
   "nbconvert_exporter": "python",
   "pygments_lexer": "ipython3",
   "version": "3.10.9"
  },
  "vp": {
   "vp_config_version": "1.0.0",
   "vp_menu_width": 273,
   "vp_note_display": false,
   "vp_note_width": 0,
   "vp_position": {
    "width": 278
   },
   "vp_section_display": false,
   "vp_signature": "VisualPython"
  }
 },
 "nbformat": 4,
 "nbformat_minor": 5
}
