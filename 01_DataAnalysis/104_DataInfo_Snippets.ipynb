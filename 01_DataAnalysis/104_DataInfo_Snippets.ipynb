{
 "cells": [
  {
   "cell_type": "markdown",
   "id": "157d40f4",
   "metadata": {},
   "source": [
    "<img src=\"https://i.esdrop.com/d/7o0dj05m8rnz/JNGCMedl18.png\" width=\"45%\">"
   ]
  },
  {
   "cell_type": "markdown",
   "id": "3f2ab13a",
   "metadata": {},
   "source": [
    "# 1. Import python package"
   ]
  },
  {
   "cell_type": "code",
   "execution_count": 1,
   "id": "6dd02366",
   "metadata": {},
   "outputs": [],
   "source": [
    "# Visual Python: Data Analysis > Import\n",
    "import numpy as np\n",
    "import pandas as pd\n",
    "import matplotlib.pyplot as plt\n",
    "%matplotlib inline\n",
    "import seaborn as sns"
   ]
  },
  {
   "cell_type": "markdown",
   "id": "2f5efd8d",
   "metadata": {},
   "source": [
    "# 2. Load files"
   ]
  },
  {
   "cell_type": "code",
   "execution_count": 2,
   "id": "4500b3a3",
   "metadata": {},
   "outputs": [
    {
     "data": {
      "text/html": [
       "<div>\n",
       "<style scoped>\n",
       "    .dataframe tbody tr th:only-of-type {\n",
       "        vertical-align: middle;\n",
       "    }\n",
       "\n",
       "    .dataframe tbody tr th {\n",
       "        vertical-align: top;\n",
       "    }\n",
       "\n",
       "    .dataframe thead th {\n",
       "        text-align: right;\n",
       "    }\n",
       "</style>\n",
       "<table border=\"1\" class=\"dataframe\">\n",
       "  <thead>\n",
       "    <tr style=\"text-align: right;\">\n",
       "      <th></th>\n",
       "      <th>sepal_length</th>\n",
       "      <th>sepal_width</th>\n",
       "      <th>petal_length</th>\n",
       "      <th>petal_width</th>\n",
       "      <th>variety</th>\n",
       "    </tr>\n",
       "  </thead>\n",
       "  <tbody>\n",
       "    <tr>\n",
       "      <th>0</th>\n",
       "      <td>5.1</td>\n",
       "      <td>3.5</td>\n",
       "      <td>1.4</td>\n",
       "      <td>0.2</td>\n",
       "      <td>Setosa</td>\n",
       "    </tr>\n",
       "    <tr>\n",
       "      <th>1</th>\n",
       "      <td>4.9</td>\n",
       "      <td>3.0</td>\n",
       "      <td>1.4</td>\n",
       "      <td>0.2</td>\n",
       "      <td>Setosa</td>\n",
       "    </tr>\n",
       "    <tr>\n",
       "      <th>2</th>\n",
       "      <td>4.7</td>\n",
       "      <td>3.2</td>\n",
       "      <td>1.3</td>\n",
       "      <td>0.2</td>\n",
       "      <td>Setosa</td>\n",
       "    </tr>\n",
       "    <tr>\n",
       "      <th>3</th>\n",
       "      <td>4.6</td>\n",
       "      <td>3.1</td>\n",
       "      <td>1.5</td>\n",
       "      <td>0.2</td>\n",
       "      <td>Setosa</td>\n",
       "    </tr>\n",
       "    <tr>\n",
       "      <th>4</th>\n",
       "      <td>5.0</td>\n",
       "      <td>3.6</td>\n",
       "      <td>1.4</td>\n",
       "      <td>0.2</td>\n",
       "      <td>Setosa</td>\n",
       "    </tr>\n",
       "    <tr>\n",
       "      <th>...</th>\n",
       "      <td>...</td>\n",
       "      <td>...</td>\n",
       "      <td>...</td>\n",
       "      <td>...</td>\n",
       "      <td>...</td>\n",
       "    </tr>\n",
       "    <tr>\n",
       "      <th>145</th>\n",
       "      <td>6.7</td>\n",
       "      <td>3.0</td>\n",
       "      <td>5.2</td>\n",
       "      <td>2.3</td>\n",
       "      <td>Virginica</td>\n",
       "    </tr>\n",
       "    <tr>\n",
       "      <th>146</th>\n",
       "      <td>6.3</td>\n",
       "      <td>2.5</td>\n",
       "      <td>5.0</td>\n",
       "      <td>1.9</td>\n",
       "      <td>Virginica</td>\n",
       "    </tr>\n",
       "    <tr>\n",
       "      <th>147</th>\n",
       "      <td>6.5</td>\n",
       "      <td>3.0</td>\n",
       "      <td>5.2</td>\n",
       "      <td>2.0</td>\n",
       "      <td>Virginica</td>\n",
       "    </tr>\n",
       "    <tr>\n",
       "      <th>148</th>\n",
       "      <td>6.2</td>\n",
       "      <td>3.4</td>\n",
       "      <td>5.4</td>\n",
       "      <td>2.3</td>\n",
       "      <td>Virginica</td>\n",
       "    </tr>\n",
       "    <tr>\n",
       "      <th>149</th>\n",
       "      <td>5.9</td>\n",
       "      <td>3.0</td>\n",
       "      <td>5.1</td>\n",
       "      <td>1.8</td>\n",
       "      <td>Virginica</td>\n",
       "    </tr>\n",
       "  </tbody>\n",
       "</table>\n",
       "<p>150 rows × 5 columns</p>\n",
       "</div>"
      ],
      "text/plain": [
       "     sepal_length  sepal_width  petal_length  petal_width    variety\n",
       "0             5.1          3.5           1.4          0.2     Setosa\n",
       "1             4.9          3.0           1.4          0.2     Setosa\n",
       "2             4.7          3.2           1.3          0.2     Setosa\n",
       "3             4.6          3.1           1.5          0.2     Setosa\n",
       "4             5.0          3.6           1.4          0.2     Setosa\n",
       "..            ...          ...           ...          ...        ...\n",
       "145           6.7          3.0           5.2          2.3  Virginica\n",
       "146           6.3          2.5           5.0          1.9  Virginica\n",
       "147           6.5          3.0           5.2          2.0  Virginica\n",
       "148           6.2          3.4           5.4          2.3  Virginica\n",
       "149           5.9          3.0           5.1          1.8  Virginica\n",
       "\n",
       "[150 rows x 5 columns]"
      ]
     },
     "execution_count": 2,
     "metadata": {},
     "output_type": "execute_result"
    }
   ],
   "source": [
    "# Visual Python: Data Analysis > File\n",
    "df_iris = pd.read_csv('data/iris.csv')\n",
    "df_iris"
   ]
  },
  {
   "cell_type": "markdown",
   "id": "e496b2c2",
   "metadata": {},
   "source": [
    "# 3. Data Info"
   ]
  },
  {
   "cell_type": "markdown",
   "id": "d89f7145",
   "metadata": {},
   "source": [
    "## 3.1 General"
   ]
  },
  {
   "cell_type": "markdown",
   "id": "3738fab5",
   "metadata": {},
   "source": [
    "### 3.1.1 Info"
   ]
  },
  {
   "cell_type": "code",
   "execution_count": 3,
   "id": "8720222e",
   "metadata": {},
   "outputs": [
    {
     "name": "stdout",
     "output_type": "stream",
     "text": [
      "<class 'pandas.core.frame.DataFrame'>\n",
      "RangeIndex: 150 entries, 0 to 149\n",
      "Data columns (total 5 columns):\n",
      " #   Column        Non-Null Count  Dtype  \n",
      "---  ------        --------------  -----  \n",
      " 0   sepal_length  150 non-null    float64\n",
      " 1   sepal_width   150 non-null    float64\n",
      " 2   petal_length  150 non-null    float64\n",
      " 3   petal_width   150 non-null    float64\n",
      " 4   variety       150 non-null    object \n",
      "dtypes: float64(4), object(1)\n",
      "memory usage: 6.0+ KB\n"
     ]
    }
   ],
   "source": [
    "# Visual Python: Data Analysis > Data Info\n",
    "df_iris.info()"
   ]
  },
  {
   "cell_type": "markdown",
   "id": "578f63c6",
   "metadata": {},
   "source": [
    "### 3.1.2 Describe"
   ]
  },
  {
   "cell_type": "code",
   "execution_count": 4,
   "id": "80cbfd21",
   "metadata": {},
   "outputs": [
    {
     "data": {
      "text/html": [
       "<div>\n",
       "<style scoped>\n",
       "    .dataframe tbody tr th:only-of-type {\n",
       "        vertical-align: middle;\n",
       "    }\n",
       "\n",
       "    .dataframe tbody tr th {\n",
       "        vertical-align: top;\n",
       "    }\n",
       "\n",
       "    .dataframe thead th {\n",
       "        text-align: right;\n",
       "    }\n",
       "</style>\n",
       "<table border=\"1\" class=\"dataframe\">\n",
       "  <thead>\n",
       "    <tr style=\"text-align: right;\">\n",
       "      <th></th>\n",
       "      <th>sepal_length</th>\n",
       "      <th>sepal_width</th>\n",
       "      <th>petal_length</th>\n",
       "      <th>petal_width</th>\n",
       "    </tr>\n",
       "  </thead>\n",
       "  <tbody>\n",
       "    <tr>\n",
       "      <th>count</th>\n",
       "      <td>150.000000</td>\n",
       "      <td>150.000000</td>\n",
       "      <td>150.000000</td>\n",
       "      <td>150.000000</td>\n",
       "    </tr>\n",
       "    <tr>\n",
       "      <th>mean</th>\n",
       "      <td>5.843333</td>\n",
       "      <td>3.057333</td>\n",
       "      <td>3.758000</td>\n",
       "      <td>1.199333</td>\n",
       "    </tr>\n",
       "    <tr>\n",
       "      <th>std</th>\n",
       "      <td>0.828066</td>\n",
       "      <td>0.435866</td>\n",
       "      <td>1.765298</td>\n",
       "      <td>0.762238</td>\n",
       "    </tr>\n",
       "    <tr>\n",
       "      <th>min</th>\n",
       "      <td>4.300000</td>\n",
       "      <td>2.000000</td>\n",
       "      <td>1.000000</td>\n",
       "      <td>0.100000</td>\n",
       "    </tr>\n",
       "    <tr>\n",
       "      <th>25%</th>\n",
       "      <td>5.100000</td>\n",
       "      <td>2.800000</td>\n",
       "      <td>1.600000</td>\n",
       "      <td>0.300000</td>\n",
       "    </tr>\n",
       "    <tr>\n",
       "      <th>50%</th>\n",
       "      <td>5.800000</td>\n",
       "      <td>3.000000</td>\n",
       "      <td>4.350000</td>\n",
       "      <td>1.300000</td>\n",
       "    </tr>\n",
       "    <tr>\n",
       "      <th>75%</th>\n",
       "      <td>6.400000</td>\n",
       "      <td>3.300000</td>\n",
       "      <td>5.100000</td>\n",
       "      <td>1.800000</td>\n",
       "    </tr>\n",
       "    <tr>\n",
       "      <th>max</th>\n",
       "      <td>7.900000</td>\n",
       "      <td>4.400000</td>\n",
       "      <td>6.900000</td>\n",
       "      <td>2.500000</td>\n",
       "    </tr>\n",
       "  </tbody>\n",
       "</table>\n",
       "</div>"
      ],
      "text/plain": [
       "       sepal_length  sepal_width  petal_length  petal_width\n",
       "count    150.000000   150.000000    150.000000   150.000000\n",
       "mean       5.843333     3.057333      3.758000     1.199333\n",
       "std        0.828066     0.435866      1.765298     0.762238\n",
       "min        4.300000     2.000000      1.000000     0.100000\n",
       "25%        5.100000     2.800000      1.600000     0.300000\n",
       "50%        5.800000     3.000000      4.350000     1.300000\n",
       "75%        6.400000     3.300000      5.100000     1.800000\n",
       "max        7.900000     4.400000      6.900000     2.500000"
      ]
     },
     "execution_count": 4,
     "metadata": {},
     "output_type": "execute_result"
    }
   ],
   "source": [
    "# Visual Python: Data Analysis > Data Info\n",
    "df_iris.describe()"
   ]
  },
  {
   "cell_type": "markdown",
   "id": "df1914be",
   "metadata": {},
   "source": [
    "### 3.1.3 Head"
   ]
  },
  {
   "cell_type": "code",
   "execution_count": 5,
   "id": "8bd89e9f",
   "metadata": {},
   "outputs": [
    {
     "data": {
      "text/html": [
       "<div>\n",
       "<style scoped>\n",
       "    .dataframe tbody tr th:only-of-type {\n",
       "        vertical-align: middle;\n",
       "    }\n",
       "\n",
       "    .dataframe tbody tr th {\n",
       "        vertical-align: top;\n",
       "    }\n",
       "\n",
       "    .dataframe thead th {\n",
       "        text-align: right;\n",
       "    }\n",
       "</style>\n",
       "<table border=\"1\" class=\"dataframe\">\n",
       "  <thead>\n",
       "    <tr style=\"text-align: right;\">\n",
       "      <th></th>\n",
       "      <th>sepal_length</th>\n",
       "      <th>sepal_width</th>\n",
       "      <th>petal_length</th>\n",
       "      <th>petal_width</th>\n",
       "      <th>variety</th>\n",
       "    </tr>\n",
       "  </thead>\n",
       "  <tbody>\n",
       "    <tr>\n",
       "      <th>0</th>\n",
       "      <td>5.1</td>\n",
       "      <td>3.5</td>\n",
       "      <td>1.4</td>\n",
       "      <td>0.2</td>\n",
       "      <td>Setosa</td>\n",
       "    </tr>\n",
       "    <tr>\n",
       "      <th>1</th>\n",
       "      <td>4.9</td>\n",
       "      <td>3.0</td>\n",
       "      <td>1.4</td>\n",
       "      <td>0.2</td>\n",
       "      <td>Setosa</td>\n",
       "    </tr>\n",
       "    <tr>\n",
       "      <th>2</th>\n",
       "      <td>4.7</td>\n",
       "      <td>3.2</td>\n",
       "      <td>1.3</td>\n",
       "      <td>0.2</td>\n",
       "      <td>Setosa</td>\n",
       "    </tr>\n",
       "    <tr>\n",
       "      <th>3</th>\n",
       "      <td>4.6</td>\n",
       "      <td>3.1</td>\n",
       "      <td>1.5</td>\n",
       "      <td>0.2</td>\n",
       "      <td>Setosa</td>\n",
       "    </tr>\n",
       "    <tr>\n",
       "      <th>4</th>\n",
       "      <td>5.0</td>\n",
       "      <td>3.6</td>\n",
       "      <td>1.4</td>\n",
       "      <td>0.2</td>\n",
       "      <td>Setosa</td>\n",
       "    </tr>\n",
       "  </tbody>\n",
       "</table>\n",
       "</div>"
      ],
      "text/plain": [
       "   sepal_length  sepal_width  petal_length  petal_width variety\n",
       "0           5.1          3.5           1.4          0.2  Setosa\n",
       "1           4.9          3.0           1.4          0.2  Setosa\n",
       "2           4.7          3.2           1.3          0.2  Setosa\n",
       "3           4.6          3.1           1.5          0.2  Setosa\n",
       "4           5.0          3.6           1.4          0.2  Setosa"
      ]
     },
     "execution_count": 5,
     "metadata": {},
     "output_type": "execute_result"
    }
   ],
   "source": [
    "# Visual Python: Data Analysis > Data Info\n",
    "df_iris.head()"
   ]
  },
  {
   "cell_type": "markdown",
   "id": "fa4d983d",
   "metadata": {},
   "source": [
    "### 3.1.4 Tail"
   ]
  },
  {
   "cell_type": "code",
   "execution_count": 6,
   "id": "a47ca605",
   "metadata": {},
   "outputs": [
    {
     "data": {
      "text/html": [
       "<div>\n",
       "<style scoped>\n",
       "    .dataframe tbody tr th:only-of-type {\n",
       "        vertical-align: middle;\n",
       "    }\n",
       "\n",
       "    .dataframe tbody tr th {\n",
       "        vertical-align: top;\n",
       "    }\n",
       "\n",
       "    .dataframe thead th {\n",
       "        text-align: right;\n",
       "    }\n",
       "</style>\n",
       "<table border=\"1\" class=\"dataframe\">\n",
       "  <thead>\n",
       "    <tr style=\"text-align: right;\">\n",
       "      <th></th>\n",
       "      <th>sepal_length</th>\n",
       "      <th>sepal_width</th>\n",
       "      <th>petal_length</th>\n",
       "      <th>petal_width</th>\n",
       "      <th>variety</th>\n",
       "    </tr>\n",
       "  </thead>\n",
       "  <tbody>\n",
       "    <tr>\n",
       "      <th>145</th>\n",
       "      <td>6.7</td>\n",
       "      <td>3.0</td>\n",
       "      <td>5.2</td>\n",
       "      <td>2.3</td>\n",
       "      <td>Virginica</td>\n",
       "    </tr>\n",
       "    <tr>\n",
       "      <th>146</th>\n",
       "      <td>6.3</td>\n",
       "      <td>2.5</td>\n",
       "      <td>5.0</td>\n",
       "      <td>1.9</td>\n",
       "      <td>Virginica</td>\n",
       "    </tr>\n",
       "    <tr>\n",
       "      <th>147</th>\n",
       "      <td>6.5</td>\n",
       "      <td>3.0</td>\n",
       "      <td>5.2</td>\n",
       "      <td>2.0</td>\n",
       "      <td>Virginica</td>\n",
       "    </tr>\n",
       "    <tr>\n",
       "      <th>148</th>\n",
       "      <td>6.2</td>\n",
       "      <td>3.4</td>\n",
       "      <td>5.4</td>\n",
       "      <td>2.3</td>\n",
       "      <td>Virginica</td>\n",
       "    </tr>\n",
       "    <tr>\n",
       "      <th>149</th>\n",
       "      <td>5.9</td>\n",
       "      <td>3.0</td>\n",
       "      <td>5.1</td>\n",
       "      <td>1.8</td>\n",
       "      <td>Virginica</td>\n",
       "    </tr>\n",
       "  </tbody>\n",
       "</table>\n",
       "</div>"
      ],
      "text/plain": [
       "     sepal_length  sepal_width  petal_length  petal_width    variety\n",
       "145           6.7          3.0           5.2          2.3  Virginica\n",
       "146           6.3          2.5           5.0          1.9  Virginica\n",
       "147           6.5          3.0           5.2          2.0  Virginica\n",
       "148           6.2          3.4           5.4          2.3  Virginica\n",
       "149           5.9          3.0           5.1          1.8  Virginica"
      ]
     },
     "execution_count": 6,
     "metadata": {},
     "output_type": "execute_result"
    }
   ],
   "source": [
    "# Visual Python: Data Analysis > Data Info\n",
    "df_iris.tail()"
   ]
  },
  {
   "cell_type": "markdown",
   "id": "081f6128",
   "metadata": {},
   "source": [
    "## 3.2 Status"
   ]
  },
  {
   "cell_type": "markdown",
   "id": "b036a464",
   "metadata": {},
   "source": [
    "### 3.2.1 Null count"
   ]
  },
  {
   "cell_type": "code",
   "execution_count": 7,
   "id": "4312b4c2",
   "metadata": {},
   "outputs": [
    {
     "data": {
      "text/html": [
       "<div>\n",
       "<style scoped>\n",
       "    .dataframe tbody tr th:only-of-type {\n",
       "        vertical-align: middle;\n",
       "    }\n",
       "\n",
       "    .dataframe tbody tr th {\n",
       "        vertical-align: top;\n",
       "    }\n",
       "\n",
       "    .dataframe thead th {\n",
       "        text-align: right;\n",
       "    }\n",
       "</style>\n",
       "<table border=\"1\" class=\"dataframe\">\n",
       "  <thead>\n",
       "    <tr style=\"text-align: right;\">\n",
       "      <th></th>\n",
       "      <th>Null Count</th>\n",
       "      <th>Non-Null Count</th>\n",
       "    </tr>\n",
       "  </thead>\n",
       "  <tbody>\n",
       "    <tr>\n",
       "      <th>sepal_length</th>\n",
       "      <td>0</td>\n",
       "      <td>150</td>\n",
       "    </tr>\n",
       "    <tr>\n",
       "      <th>sepal_width</th>\n",
       "      <td>0</td>\n",
       "      <td>150</td>\n",
       "    </tr>\n",
       "    <tr>\n",
       "      <th>petal_length</th>\n",
       "      <td>0</td>\n",
       "      <td>150</td>\n",
       "    </tr>\n",
       "    <tr>\n",
       "      <th>petal_width</th>\n",
       "      <td>0</td>\n",
       "      <td>150</td>\n",
       "    </tr>\n",
       "    <tr>\n",
       "      <th>variety</th>\n",
       "      <td>0</td>\n",
       "      <td>150</td>\n",
       "    </tr>\n",
       "  </tbody>\n",
       "</table>\n",
       "</div>"
      ],
      "text/plain": [
       "              Null Count  Non-Null Count\n",
       "sepal_length           0             150\n",
       "sepal_width            0             150\n",
       "petal_length           0             150\n",
       "petal_width            0             150\n",
       "variety                0             150"
      ]
     },
     "execution_count": 7,
     "metadata": {},
     "output_type": "execute_result"
    }
   ],
   "source": [
    "# Visual Python: Data Analysis > Data Info\n",
    "pd.DataFrame({'Null Count': df_iris.isnull().sum(), 'Non-Null Count': df_iris.notnull().sum()})"
   ]
  },
  {
   "cell_type": "markdown",
   "id": "f6e24644",
   "metadata": {},
   "source": [
    "### 3.2.2 Duplicated"
   ]
  },
  {
   "cell_type": "code",
   "execution_count": 8,
   "id": "a65c09a6",
   "metadata": {},
   "outputs": [
    {
     "data": {
      "text/html": [
       "<div>\n",
       "<style scoped>\n",
       "    .dataframe tbody tr th:only-of-type {\n",
       "        vertical-align: middle;\n",
       "    }\n",
       "\n",
       "    .dataframe tbody tr th {\n",
       "        vertical-align: top;\n",
       "    }\n",
       "\n",
       "    .dataframe thead th {\n",
       "        text-align: right;\n",
       "    }\n",
       "</style>\n",
       "<table border=\"1\" class=\"dataframe\">\n",
       "  <thead>\n",
       "    <tr style=\"text-align: right;\">\n",
       "      <th></th>\n",
       "      <th>Rows</th>\n",
       "      <th>Unique</th>\n",
       "      <th>Duplicated</th>\n",
       "      <th>Duplicated by</th>\n",
       "    </tr>\n",
       "  </thead>\n",
       "  <tbody>\n",
       "    <tr>\n",
       "      <th>Combination</th>\n",
       "      <td>150</td>\n",
       "      <td>149</td>\n",
       "      <td>1</td>\n",
       "      <td>All columns</td>\n",
       "    </tr>\n",
       "    <tr>\n",
       "      <th>sepal_length</th>\n",
       "      <td>150</td>\n",
       "      <td>35</td>\n",
       "      <td>115</td>\n",
       "      <td>sepal_length</td>\n",
       "    </tr>\n",
       "    <tr>\n",
       "      <th>sepal_width</th>\n",
       "      <td>150</td>\n",
       "      <td>23</td>\n",
       "      <td>127</td>\n",
       "      <td>sepal_width</td>\n",
       "    </tr>\n",
       "    <tr>\n",
       "      <th>petal_length</th>\n",
       "      <td>150</td>\n",
       "      <td>43</td>\n",
       "      <td>107</td>\n",
       "      <td>petal_length</td>\n",
       "    </tr>\n",
       "    <tr>\n",
       "      <th>petal_width</th>\n",
       "      <td>150</td>\n",
       "      <td>22</td>\n",
       "      <td>128</td>\n",
       "      <td>petal_width</td>\n",
       "    </tr>\n",
       "    <tr>\n",
       "      <th>variety</th>\n",
       "      <td>150</td>\n",
       "      <td>3</td>\n",
       "      <td>147</td>\n",
       "      <td>variety</td>\n",
       "    </tr>\n",
       "  </tbody>\n",
       "</table>\n",
       "</div>"
      ],
      "text/plain": [
       "              Rows  Unique  Duplicated Duplicated by\n",
       "Combination    150     149           1   All columns\n",
       "sepal_length   150      35         115  sepal_length\n",
       "sepal_width    150      23         127   sepal_width\n",
       "petal_length   150      43         107  petal_length\n",
       "petal_width    150      22         128   petal_width\n",
       "variety        150       3         147       variety"
      ]
     },
     "execution_count": 8,
     "metadata": {},
     "output_type": "execute_result"
    }
   ],
   "source": [
    "# Visual Python: Data Analysis > Data Info\n",
    "_duplicated = ([df_iris.duplicated().sum()] + [df_iris[col].duplicated().sum() for col in df_iris.columns])\n",
    "_duplicated_df = pd.DataFrame({\n",
    "    'Rows':[len(df_iris)]*len(_duplicated),\n",
    "    'Unique':[len(df_iris) - dups for dups in _duplicated],\n",
    "    'Duplicated': _duplicated,\n",
    "    'Duplicated by': ['All columns'] + df_iris.columns.to_list()\n",
    "}, index=['Combination']+df_iris.columns.to_list())\n",
    "_duplicated_df"
   ]
  },
  {
   "cell_type": "markdown",
   "id": "ef31a49e",
   "metadata": {},
   "source": [
    "### 3.2.3 Unique"
   ]
  },
  {
   "cell_type": "code",
   "execution_count": 9,
   "id": "cc37f71a",
   "metadata": {},
   "outputs": [
    {
     "data": {
      "text/plain": [
       "array(['Setosa', 'Versicolor', 'Virginica'], dtype=object)"
      ]
     },
     "execution_count": 9,
     "metadata": {},
     "output_type": "execute_result"
    }
   ],
   "source": [
    "# Visual Python: Data Analysis > Data Info\n",
    "df_iris['variety'].unique()"
   ]
  },
  {
   "cell_type": "markdown",
   "id": "d0be5563",
   "metadata": {},
   "source": [
    "### 3.2.4 Value counts"
   ]
  },
  {
   "cell_type": "code",
   "execution_count": 10,
   "id": "feea1015",
   "metadata": {},
   "outputs": [
    {
     "data": {
      "text/html": [
       "<div>\n",
       "<style scoped>\n",
       "    .dataframe tbody tr th:only-of-type {\n",
       "        vertical-align: middle;\n",
       "    }\n",
       "\n",
       "    .dataframe tbody tr th {\n",
       "        vertical-align: top;\n",
       "    }\n",
       "\n",
       "    .dataframe thead tr th {\n",
       "        text-align: left;\n",
       "    }\n",
       "</style>\n",
       "<table border=\"1\" class=\"dataframe\">\n",
       "  <thead>\n",
       "    <tr>\n",
       "      <th></th>\n",
       "      <th colspan=\"2\" halign=\"left\">sepal_length</th>\n",
       "      <th colspan=\"2\" halign=\"left\">sepal_width</th>\n",
       "      <th colspan=\"2\" halign=\"left\">petal_length</th>\n",
       "      <th colspan=\"2\" halign=\"left\">petal_width</th>\n",
       "      <th colspan=\"2\" halign=\"left\">variety</th>\n",
       "    </tr>\n",
       "    <tr>\n",
       "      <th></th>\n",
       "      <th>bins</th>\n",
       "      <th>count</th>\n",
       "      <th>bins</th>\n",
       "      <th>count</th>\n",
       "      <th>bins</th>\n",
       "      <th>count</th>\n",
       "      <th>bins</th>\n",
       "      <th>count</th>\n",
       "      <th>category</th>\n",
       "      <th>count</th>\n",
       "    </tr>\n",
       "  </thead>\n",
       "  <tbody>\n",
       "    <tr>\n",
       "      <th>0</th>\n",
       "      <td>(4.295, 4.66]</td>\n",
       "      <td>9</td>\n",
       "      <td>(1.997, 2.24]</td>\n",
       "      <td>4</td>\n",
       "      <td>(0.993, 1.59]</td>\n",
       "      <td>37</td>\n",
       "      <td>(0.0966, 0.34]</td>\n",
       "      <td>41</td>\n",
       "      <td>Setosa</td>\n",
       "      <td>50.0</td>\n",
       "    </tr>\n",
       "    <tr>\n",
       "      <th>1</th>\n",
       "      <td>(4.66, 5.02]</td>\n",
       "      <td>23</td>\n",
       "      <td>(2.24, 2.48]</td>\n",
       "      <td>7</td>\n",
       "      <td>(1.59, 2.18]</td>\n",
       "      <td>13</td>\n",
       "      <td>(0.34, 0.58]</td>\n",
       "      <td>8</td>\n",
       "      <td>Versicolor</td>\n",
       "      <td>50.0</td>\n",
       "    </tr>\n",
       "    <tr>\n",
       "      <th>2</th>\n",
       "      <td>(5.02, 5.38]</td>\n",
       "      <td>14</td>\n",
       "      <td>(2.48, 2.72]</td>\n",
       "      <td>22</td>\n",
       "      <td>(2.18, 2.77]</td>\n",
       "      <td>0</td>\n",
       "      <td>(0.58, 0.82]</td>\n",
       "      <td>1</td>\n",
       "      <td>Virginica</td>\n",
       "      <td>50.0</td>\n",
       "    </tr>\n",
       "    <tr>\n",
       "      <th>3</th>\n",
       "      <td>(5.38, 5.74]</td>\n",
       "      <td>27</td>\n",
       "      <td>(2.72, 2.96]</td>\n",
       "      <td>24</td>\n",
       "      <td>(2.77, 3.36]</td>\n",
       "      <td>3</td>\n",
       "      <td>(0.82, 1.06]</td>\n",
       "      <td>7</td>\n",
       "      <td></td>\n",
       "      <td></td>\n",
       "    </tr>\n",
       "    <tr>\n",
       "      <th>4</th>\n",
       "      <td>(5.74, 6.1]</td>\n",
       "      <td>22</td>\n",
       "      <td>(2.96, 3.2]</td>\n",
       "      <td>50</td>\n",
       "      <td>(3.36, 3.95]</td>\n",
       "      <td>8</td>\n",
       "      <td>(1.06, 1.3]</td>\n",
       "      <td>21</td>\n",
       "      <td></td>\n",
       "      <td></td>\n",
       "    </tr>\n",
       "    <tr>\n",
       "      <th>5</th>\n",
       "      <td>(6.1, 6.46]</td>\n",
       "      <td>20</td>\n",
       "      <td>(3.2, 3.44]</td>\n",
       "      <td>18</td>\n",
       "      <td>(3.95, 4.54]</td>\n",
       "      <td>26</td>\n",
       "      <td>(1.3, 1.54]</td>\n",
       "      <td>20</td>\n",
       "      <td></td>\n",
       "      <td></td>\n",
       "    </tr>\n",
       "    <tr>\n",
       "      <th>6</th>\n",
       "      <td>(6.46, 6.82]</td>\n",
       "      <td>18</td>\n",
       "      <td>(3.44, 3.68]</td>\n",
       "      <td>10</td>\n",
       "      <td>(4.54, 5.13]</td>\n",
       "      <td>29</td>\n",
       "      <td>(1.54, 1.78]</td>\n",
       "      <td>6</td>\n",
       "      <td></td>\n",
       "      <td></td>\n",
       "    </tr>\n",
       "    <tr>\n",
       "      <th>7</th>\n",
       "      <td>(6.82, 7.18]</td>\n",
       "      <td>6</td>\n",
       "      <td>(3.68, 3.92]</td>\n",
       "      <td>11</td>\n",
       "      <td>(5.13, 5.72]</td>\n",
       "      <td>18</td>\n",
       "      <td>(1.78, 2.02]</td>\n",
       "      <td>23</td>\n",
       "      <td></td>\n",
       "      <td></td>\n",
       "    </tr>\n",
       "    <tr>\n",
       "      <th>8</th>\n",
       "      <td>(7.18, 7.54]</td>\n",
       "      <td>5</td>\n",
       "      <td>(3.92, 4.16]</td>\n",
       "      <td>2</td>\n",
       "      <td>(5.72, 6.31]</td>\n",
       "      <td>11</td>\n",
       "      <td>(2.02, 2.26]</td>\n",
       "      <td>9</td>\n",
       "      <td></td>\n",
       "      <td></td>\n",
       "    </tr>\n",
       "    <tr>\n",
       "      <th>9</th>\n",
       "      <td>(7.54, 7.9]</td>\n",
       "      <td>6</td>\n",
       "      <td>(4.16, 4.4]</td>\n",
       "      <td>2</td>\n",
       "      <td>(6.31, 6.9]</td>\n",
       "      <td>5</td>\n",
       "      <td>(2.26, 2.5]</td>\n",
       "      <td>14</td>\n",
       "      <td></td>\n",
       "      <td></td>\n",
       "    </tr>\n",
       "  </tbody>\n",
       "</table>\n",
       "</div>"
      ],
      "text/plain": [
       "    sepal_length          sepal_width         petal_length        \\\n",
       "            bins count           bins count           bins count   \n",
       "0  (4.295, 4.66]     9  (1.997, 2.24]     4  (0.993, 1.59]    37   \n",
       "1   (4.66, 5.02]    23   (2.24, 2.48]     7   (1.59, 2.18]    13   \n",
       "2   (5.02, 5.38]    14   (2.48, 2.72]    22   (2.18, 2.77]     0   \n",
       "3   (5.38, 5.74]    27   (2.72, 2.96]    24   (2.77, 3.36]     3   \n",
       "4    (5.74, 6.1]    22    (2.96, 3.2]    50   (3.36, 3.95]     8   \n",
       "5    (6.1, 6.46]    20    (3.2, 3.44]    18   (3.95, 4.54]    26   \n",
       "6   (6.46, 6.82]    18   (3.44, 3.68]    10   (4.54, 5.13]    29   \n",
       "7   (6.82, 7.18]     6   (3.68, 3.92]    11   (5.13, 5.72]    18   \n",
       "8   (7.18, 7.54]     5   (3.92, 4.16]     2   (5.72, 6.31]    11   \n",
       "9    (7.54, 7.9]     6    (4.16, 4.4]     2    (6.31, 6.9]     5   \n",
       "\n",
       "      petal_width           variety        \n",
       "             bins count    category count  \n",
       "0  (0.0966, 0.34]    41      Setosa  50.0  \n",
       "1    (0.34, 0.58]     8  Versicolor  50.0  \n",
       "2    (0.58, 0.82]     1   Virginica  50.0  \n",
       "3    (0.82, 1.06]     7                    \n",
       "4     (1.06, 1.3]    21                    \n",
       "5     (1.3, 1.54]    20                    \n",
       "6    (1.54, 1.78]     6                    \n",
       "7    (1.78, 2.02]    23                    \n",
       "8    (2.02, 2.26]     9                    \n",
       "9     (2.26, 2.5]    14                    "
      ]
     },
     "execution_count": 10,
     "metadata": {},
     "output_type": "execute_result"
    }
   ],
   "source": [
    "# Visual Python: Data Analysis > Data Info\n",
    "_dfr = pd.DataFrame()\n",
    "for col in df_iris.columns:\n",
    "    if pd.api.types.is_numeric_dtype(df_iris[col]) and  df_iris[col].value_counts().size > 10:\n",
    "        _value_counts = df_iris[col].value_counts(bins=10, sort=False)\n",
    "        _dfr = pd.concat([_dfr, pd.DataFrame({(col,'bins'): _value_counts.index})], axis=1)\n",
    "    else:\n",
    "        _value_counts = df_iris[col].value_counts()\n",
    "        _dfr = pd.concat([_dfr, pd.DataFrame({(col,'category'): _value_counts.index})], axis=1)\n",
    "    _dfr = pd.concat([_dfr, pd.DataFrame({(col,'count'): _value_counts.values})], axis=1)\n",
    "_dfr.replace(np.nan,'')"
   ]
  },
  {
   "cell_type": "markdown",
   "id": "f6b85c9a",
   "metadata": {},
   "source": [
    "## 3.3 Statistics"
   ]
  },
  {
   "cell_type": "markdown",
   "id": "5f7e27cb",
   "metadata": {},
   "source": [
    "### 3.3.1 count, min, max, quantile, sum, mean, median, var, std, skew, kurtosis"
   ]
  },
  {
   "cell_type": "code",
   "execution_count": 11,
   "id": "5a12219b",
   "metadata": {},
   "outputs": [
    {
     "data": {
      "text/html": [
       "<div>\n",
       "<style scoped>\n",
       "    .dataframe tbody tr th:only-of-type {\n",
       "        vertical-align: middle;\n",
       "    }\n",
       "\n",
       "    .dataframe tbody tr th {\n",
       "        vertical-align: top;\n",
       "    }\n",
       "\n",
       "    .dataframe thead th {\n",
       "        text-align: right;\n",
       "    }\n",
       "</style>\n",
       "<table border=\"1\" class=\"dataframe\">\n",
       "  <thead>\n",
       "    <tr style=\"text-align: right;\">\n",
       "      <th></th>\n",
       "      <th>count</th>\n",
       "      <th>min</th>\n",
       "      <th>max</th>\n",
       "      <th>quantile</th>\n",
       "      <th>sum</th>\n",
       "      <th>mean</th>\n",
       "      <th>median</th>\n",
       "      <th>var</th>\n",
       "      <th>std</th>\n",
       "      <th>skew</th>\n",
       "      <th>kurtosis</th>\n",
       "    </tr>\n",
       "  </thead>\n",
       "  <tbody>\n",
       "    <tr>\n",
       "      <th>petal_length</th>\n",
       "      <td>150</td>\n",
       "      <td>1.0</td>\n",
       "      <td>6.9</td>\n",
       "      <td>4.35</td>\n",
       "      <td>563.7</td>\n",
       "      <td>3.758000</td>\n",
       "      <td>4.35</td>\n",
       "      <td>3.116278</td>\n",
       "      <td>1.765298</td>\n",
       "      <td>-0.274884</td>\n",
       "      <td>-1.402103</td>\n",
       "    </tr>\n",
       "    <tr>\n",
       "      <th>petal_width</th>\n",
       "      <td>150</td>\n",
       "      <td>0.1</td>\n",
       "      <td>2.5</td>\n",
       "      <td>1.30</td>\n",
       "      <td>179.9</td>\n",
       "      <td>1.199333</td>\n",
       "      <td>1.30</td>\n",
       "      <td>0.581006</td>\n",
       "      <td>0.762238</td>\n",
       "      <td>-0.102967</td>\n",
       "      <td>-1.340604</td>\n",
       "    </tr>\n",
       "    <tr>\n",
       "      <th>sepal_length</th>\n",
       "      <td>150</td>\n",
       "      <td>4.3</td>\n",
       "      <td>7.9</td>\n",
       "      <td>5.80</td>\n",
       "      <td>876.5</td>\n",
       "      <td>5.843333</td>\n",
       "      <td>5.80</td>\n",
       "      <td>0.685694</td>\n",
       "      <td>0.828066</td>\n",
       "      <td>0.314911</td>\n",
       "      <td>-0.552064</td>\n",
       "    </tr>\n",
       "    <tr>\n",
       "      <th>sepal_width</th>\n",
       "      <td>150</td>\n",
       "      <td>2.0</td>\n",
       "      <td>4.4</td>\n",
       "      <td>3.00</td>\n",
       "      <td>458.6</td>\n",
       "      <td>3.057333</td>\n",
       "      <td>3.00</td>\n",
       "      <td>0.189979</td>\n",
       "      <td>0.435866</td>\n",
       "      <td>0.318966</td>\n",
       "      <td>0.228249</td>\n",
       "    </tr>\n",
       "    <tr>\n",
       "      <th>variety</th>\n",
       "      <td>150</td>\n",
       "      <td>NaN</td>\n",
       "      <td>NaN</td>\n",
       "      <td>NaN</td>\n",
       "      <td>NaN</td>\n",
       "      <td>NaN</td>\n",
       "      <td>NaN</td>\n",
       "      <td>NaN</td>\n",
       "      <td>NaN</td>\n",
       "      <td>NaN</td>\n",
       "      <td>NaN</td>\n",
       "    </tr>\n",
       "  </tbody>\n",
       "</table>\n",
       "</div>"
      ],
      "text/plain": [
       "              count  min  max  quantile    sum      mean  median       var  \\\n",
       "petal_length    150  1.0  6.9      4.35  563.7  3.758000    4.35  3.116278   \n",
       "petal_width     150  0.1  2.5      1.30  179.9  1.199333    1.30  0.581006   \n",
       "sepal_length    150  4.3  7.9      5.80  876.5  5.843333    5.80  0.685694   \n",
       "sepal_width     150  2.0  4.4      3.00  458.6  3.057333    3.00  0.189979   \n",
       "variety         150  NaN  NaN       NaN    NaN       NaN     NaN       NaN   \n",
       "\n",
       "                   std      skew  kurtosis  \n",
       "petal_length  1.765298 -0.274884 -1.402103  \n",
       "petal_width   0.762238 -0.102967 -1.340604  \n",
       "sepal_length  0.828066  0.314911 -0.552064  \n",
       "sepal_width   0.435866  0.318966  0.228249  \n",
       "variety            NaN       NaN       NaN  "
      ]
     },
     "execution_count": 11,
     "metadata": {},
     "output_type": "execute_result"
    }
   ],
   "source": [
    "# Visual Python: Data Analysis > Data Info\n",
    "pd.DataFrame({'count': df_iris.count(),'min': df_iris.min(numeric_only=True),'max': df_iris.max(numeric_only=True),'quantile': df_iris.quantile(numeric_only=True),'sum': df_iris.sum(numeric_only=True),'mean': df_iris.mean(numeric_only=True),'median': df_iris.median(numeric_only=True),'var': df_iris.var(numeric_only=True),'std': df_iris.std(numeric_only=True),'skew': df_iris.skew(numeric_only=True),'kurtosis': df_iris.kurtosis(numeric_only=True)})"
   ]
  },
  {
   "cell_type": "markdown",
   "id": "5348c05d",
   "metadata": {},
   "source": [
    "### 3.3.2 cumsum"
   ]
  },
  {
   "cell_type": "code",
   "execution_count": 12,
   "id": "1b993f6f",
   "metadata": {},
   "outputs": [
    {
     "data": {
      "text/html": [
       "<div>\n",
       "<style scoped>\n",
       "    .dataframe tbody tr th:only-of-type {\n",
       "        vertical-align: middle;\n",
       "    }\n",
       "\n",
       "    .dataframe tbody tr th {\n",
       "        vertical-align: top;\n",
       "    }\n",
       "\n",
       "    .dataframe thead th {\n",
       "        text-align: right;\n",
       "    }\n",
       "</style>\n",
       "<table border=\"1\" class=\"dataframe\">\n",
       "  <thead>\n",
       "    <tr style=\"text-align: right;\">\n",
       "      <th></th>\n",
       "      <th>sepal_length</th>\n",
       "      <th>sepal_width</th>\n",
       "      <th>petal_length</th>\n",
       "      <th>petal_width</th>\n",
       "    </tr>\n",
       "  </thead>\n",
       "  <tbody>\n",
       "    <tr>\n",
       "      <th>0</th>\n",
       "      <td>5.1</td>\n",
       "      <td>3.5</td>\n",
       "      <td>1.4</td>\n",
       "      <td>0.2</td>\n",
       "    </tr>\n",
       "    <tr>\n",
       "      <th>1</th>\n",
       "      <td>10.0</td>\n",
       "      <td>6.5</td>\n",
       "      <td>2.8</td>\n",
       "      <td>0.4</td>\n",
       "    </tr>\n",
       "    <tr>\n",
       "      <th>2</th>\n",
       "      <td>14.7</td>\n",
       "      <td>9.7</td>\n",
       "      <td>4.1</td>\n",
       "      <td>0.6</td>\n",
       "    </tr>\n",
       "    <tr>\n",
       "      <th>3</th>\n",
       "      <td>19.3</td>\n",
       "      <td>12.8</td>\n",
       "      <td>5.6</td>\n",
       "      <td>0.8</td>\n",
       "    </tr>\n",
       "    <tr>\n",
       "      <th>4</th>\n",
       "      <td>24.3</td>\n",
       "      <td>16.4</td>\n",
       "      <td>7.0</td>\n",
       "      <td>1.0</td>\n",
       "    </tr>\n",
       "    <tr>\n",
       "      <th>...</th>\n",
       "      <td>...</td>\n",
       "      <td>...</td>\n",
       "      <td>...</td>\n",
       "      <td>...</td>\n",
       "    </tr>\n",
       "    <tr>\n",
       "      <th>145</th>\n",
       "      <td>851.6</td>\n",
       "      <td>446.7</td>\n",
       "      <td>543.0</td>\n",
       "      <td>171.9</td>\n",
       "    </tr>\n",
       "    <tr>\n",
       "      <th>146</th>\n",
       "      <td>857.9</td>\n",
       "      <td>449.2</td>\n",
       "      <td>548.0</td>\n",
       "      <td>173.8</td>\n",
       "    </tr>\n",
       "    <tr>\n",
       "      <th>147</th>\n",
       "      <td>864.4</td>\n",
       "      <td>452.2</td>\n",
       "      <td>553.2</td>\n",
       "      <td>175.8</td>\n",
       "    </tr>\n",
       "    <tr>\n",
       "      <th>148</th>\n",
       "      <td>870.6</td>\n",
       "      <td>455.6</td>\n",
       "      <td>558.6</td>\n",
       "      <td>178.1</td>\n",
       "    </tr>\n",
       "    <tr>\n",
       "      <th>149</th>\n",
       "      <td>876.5</td>\n",
       "      <td>458.6</td>\n",
       "      <td>563.7</td>\n",
       "      <td>179.9</td>\n",
       "    </tr>\n",
       "  </tbody>\n",
       "</table>\n",
       "<p>150 rows × 4 columns</p>\n",
       "</div>"
      ],
      "text/plain": [
       "     sepal_length  sepal_width  petal_length  petal_width\n",
       "0             5.1          3.5           1.4          0.2\n",
       "1            10.0          6.5           2.8          0.4\n",
       "2            14.7          9.7           4.1          0.6\n",
       "3            19.3         12.8           5.6          0.8\n",
       "4            24.3         16.4           7.0          1.0\n",
       "..            ...          ...           ...          ...\n",
       "145         851.6        446.7         543.0        171.9\n",
       "146         857.9        449.2         548.0        173.8\n",
       "147         864.4        452.2         553.2        175.8\n",
       "148         870.6        455.6         558.6        178.1\n",
       "149         876.5        458.6         563.7        179.9\n",
       "\n",
       "[150 rows x 4 columns]"
      ]
     },
     "execution_count": 12,
     "metadata": {},
     "output_type": "execute_result"
    }
   ],
   "source": [
    "# Visual Python: Data Analysis > Data Info\n",
    "df_iris[['sepal_length','sepal_width','petal_length','petal_width']].cumsum()"
   ]
  },
  {
   "cell_type": "markdown",
   "id": "3a222a7b",
   "metadata": {},
   "source": [
    "## 3.4 Correlation"
   ]
  },
  {
   "cell_type": "markdown",
   "id": "e3ae0ff9",
   "metadata": {},
   "source": [
    "### 3.4.1 Correlation table"
   ]
  },
  {
   "cell_type": "code",
   "execution_count": 13,
   "id": "0c9bc1bd",
   "metadata": {},
   "outputs": [
    {
     "data": {
      "text/html": [
       "<div>\n",
       "<style scoped>\n",
       "    .dataframe tbody tr th:only-of-type {\n",
       "        vertical-align: middle;\n",
       "    }\n",
       "\n",
       "    .dataframe tbody tr th {\n",
       "        vertical-align: top;\n",
       "    }\n",
       "\n",
       "    .dataframe thead th {\n",
       "        text-align: right;\n",
       "    }\n",
       "</style>\n",
       "<table border=\"1\" class=\"dataframe\">\n",
       "  <thead>\n",
       "    <tr style=\"text-align: right;\">\n",
       "      <th></th>\n",
       "      <th>sepal_length</th>\n",
       "      <th>sepal_width</th>\n",
       "      <th>petal_length</th>\n",
       "      <th>petal_width</th>\n",
       "    </tr>\n",
       "  </thead>\n",
       "  <tbody>\n",
       "    <tr>\n",
       "      <th>sepal_length</th>\n",
       "      <td>1.000000</td>\n",
       "      <td>-0.117570</td>\n",
       "      <td>0.871754</td>\n",
       "      <td>0.817941</td>\n",
       "    </tr>\n",
       "    <tr>\n",
       "      <th>sepal_width</th>\n",
       "      <td>-0.117570</td>\n",
       "      <td>1.000000</td>\n",
       "      <td>-0.428440</td>\n",
       "      <td>-0.366126</td>\n",
       "    </tr>\n",
       "    <tr>\n",
       "      <th>petal_length</th>\n",
       "      <td>0.871754</td>\n",
       "      <td>-0.428440</td>\n",
       "      <td>1.000000</td>\n",
       "      <td>0.962865</td>\n",
       "    </tr>\n",
       "    <tr>\n",
       "      <th>petal_width</th>\n",
       "      <td>0.817941</td>\n",
       "      <td>-0.366126</td>\n",
       "      <td>0.962865</td>\n",
       "      <td>1.000000</td>\n",
       "    </tr>\n",
       "  </tbody>\n",
       "</table>\n",
       "</div>"
      ],
      "text/plain": [
       "              sepal_length  sepal_width  petal_length  petal_width\n",
       "sepal_length      1.000000    -0.117570      0.871754     0.817941\n",
       "sepal_width      -0.117570     1.000000     -0.428440    -0.366126\n",
       "petal_length      0.871754    -0.428440      1.000000     0.962865\n",
       "petal_width       0.817941    -0.366126      0.962865     1.000000"
      ]
     },
     "execution_count": 13,
     "metadata": {},
     "output_type": "execute_result"
    }
   ],
   "source": [
    "# Visual Python: Data Analysis > Data Info\n",
    "df_iris.corr(numeric_only=True)"
   ]
  },
  {
   "cell_type": "markdown",
   "id": "9d68ea23",
   "metadata": {},
   "source": [
    "### 3.4.1 Correlation matrix"
   ]
  },
  {
   "cell_type": "code",
   "execution_count": 14,
   "id": "f17debc4",
   "metadata": {},
   "outputs": [
    {
     "data": {
      "text/html": [
       "<style type=\"text/css\">\n",
       "#T_3f29b_row0_col0, #T_3f29b_row1_col1, #T_3f29b_row2_col2, #T_3f29b_row3_col3 {\n",
       "  background-color: #b40426;\n",
       "  color: #f1f1f1;\n",
       "}\n",
       "#T_3f29b_row0_col1 {\n",
       "  background-color: #81a4fb;\n",
       "  color: #f1f1f1;\n",
       "}\n",
       "#T_3f29b_row0_col2 {\n",
       "  background-color: #d24b40;\n",
       "  color: #f1f1f1;\n",
       "}\n",
       "#T_3f29b_row0_col3 {\n",
       "  background-color: #e0654f;\n",
       "  color: #f1f1f1;\n",
       "}\n",
       "#T_3f29b_row1_col0, #T_3f29b_row1_col2, #T_3f29b_row1_col3, #T_3f29b_row2_col1 {\n",
       "  background-color: #3b4cc0;\n",
       "  color: #f1f1f1;\n",
       "}\n",
       "#T_3f29b_row2_col0 {\n",
       "  background-color: #da5a49;\n",
       "  color: #f1f1f1;\n",
       "}\n",
       "#T_3f29b_row2_col3, #T_3f29b_row3_col2 {\n",
       "  background-color: #bd1f2d;\n",
       "  color: #f1f1f1;\n",
       "}\n",
       "#T_3f29b_row3_col0 {\n",
       "  background-color: #e67259;\n",
       "  color: #f1f1f1;\n",
       "}\n",
       "#T_3f29b_row3_col1 {\n",
       "  background-color: #485fd1;\n",
       "  color: #f1f1f1;\n",
       "}\n",
       "</style>\n",
       "<table id=\"T_3f29b\">\n",
       "  <thead>\n",
       "    <tr>\n",
       "      <th class=\"blank level0\" >&nbsp;</th>\n",
       "      <th id=\"T_3f29b_level0_col0\" class=\"col_heading level0 col0\" >sepal_length</th>\n",
       "      <th id=\"T_3f29b_level0_col1\" class=\"col_heading level0 col1\" >sepal_width</th>\n",
       "      <th id=\"T_3f29b_level0_col2\" class=\"col_heading level0 col2\" >petal_length</th>\n",
       "      <th id=\"T_3f29b_level0_col3\" class=\"col_heading level0 col3\" >petal_width</th>\n",
       "    </tr>\n",
       "  </thead>\n",
       "  <tbody>\n",
       "    <tr>\n",
       "      <th id=\"T_3f29b_level0_row0\" class=\"row_heading level0 row0\" >sepal_length</th>\n",
       "      <td id=\"T_3f29b_row0_col0\" class=\"data row0 col0\" >1.000000</td>\n",
       "      <td id=\"T_3f29b_row0_col1\" class=\"data row0 col1\" >-0.117570</td>\n",
       "      <td id=\"T_3f29b_row0_col2\" class=\"data row0 col2\" >0.871754</td>\n",
       "      <td id=\"T_3f29b_row0_col3\" class=\"data row0 col3\" >0.817941</td>\n",
       "    </tr>\n",
       "    <tr>\n",
       "      <th id=\"T_3f29b_level0_row1\" class=\"row_heading level0 row1\" >sepal_width</th>\n",
       "      <td id=\"T_3f29b_row1_col0\" class=\"data row1 col0\" >-0.117570</td>\n",
       "      <td id=\"T_3f29b_row1_col1\" class=\"data row1 col1\" >1.000000</td>\n",
       "      <td id=\"T_3f29b_row1_col2\" class=\"data row1 col2\" >-0.428440</td>\n",
       "      <td id=\"T_3f29b_row1_col3\" class=\"data row1 col3\" >-0.366126</td>\n",
       "    </tr>\n",
       "    <tr>\n",
       "      <th id=\"T_3f29b_level0_row2\" class=\"row_heading level0 row2\" >petal_length</th>\n",
       "      <td id=\"T_3f29b_row2_col0\" class=\"data row2 col0\" >0.871754</td>\n",
       "      <td id=\"T_3f29b_row2_col1\" class=\"data row2 col1\" >-0.428440</td>\n",
       "      <td id=\"T_3f29b_row2_col2\" class=\"data row2 col2\" >1.000000</td>\n",
       "      <td id=\"T_3f29b_row2_col3\" class=\"data row2 col3\" >0.962865</td>\n",
       "    </tr>\n",
       "    <tr>\n",
       "      <th id=\"T_3f29b_level0_row3\" class=\"row_heading level0 row3\" >petal_width</th>\n",
       "      <td id=\"T_3f29b_row3_col0\" class=\"data row3 col0\" >0.817941</td>\n",
       "      <td id=\"T_3f29b_row3_col1\" class=\"data row3 col1\" >-0.366126</td>\n",
       "      <td id=\"T_3f29b_row3_col2\" class=\"data row3 col2\" >0.962865</td>\n",
       "      <td id=\"T_3f29b_row3_col3\" class=\"data row3 col3\" >1.000000</td>\n",
       "    </tr>\n",
       "  </tbody>\n",
       "</table>\n"
      ],
      "text/plain": [
       "<pandas.io.formats.style.Styler at 0x2030ea7be50>"
      ]
     },
     "execution_count": 14,
     "metadata": {},
     "output_type": "execute_result"
    }
   ],
   "source": [
    "# Visual Python: Data Analysis > Data Info\n",
    "_corr = df_iris.corr(numeric_only=True)\n",
    "_corr.style.background_gradient(cmap='coolwarm')"
   ]
  },
  {
   "cell_type": "markdown",
   "id": "46d6b583",
   "metadata": {},
   "source": [
    "## 3.5 Distribution"
   ]
  },
  {
   "cell_type": "markdown",
   "id": "ea6878f9",
   "metadata": {},
   "source": [
    "### 3.5.1 Histogram"
   ]
  },
  {
   "cell_type": "code",
   "execution_count": 15,
   "id": "e4a7f7e8",
   "metadata": {},
   "outputs": [
    {
     "data": {
      "image/png": "[encoded data removed]",
      "text/plain": [
       "<Figure size 640x480 with 4 Axes>"
      ]
     },
     "metadata": {},
     "output_type": "display_data"
    }
   ],
   "source": [
    "# Visual Python: Data Analysis > Data Info\n",
    "df_iris.hist()\n",
    "plt.show()"
   ]
  },
  {
   "cell_type": "markdown",
   "id": "297a50e4",
   "metadata": {},
   "source": [
    "### 3.5.2 Sctter matrix"
   ]
  },
  {
   "cell_type": "code",
   "execution_count": 16,
   "id": "4c8531ec",
   "metadata": {},
   "outputs": [
    {
     "data": {
      "image/png": "[encoded data removed]",
      "text/plain": [
       "<Figure size 640x480 with 16 Axes>"
      ]
     },
     "metadata": {},
     "output_type": "display_data"
    }
   ],
   "source": [
    "# Visual Python: Data Analysis > Data Info\n",
    "pd.plotting.scatter_matrix(df_iris, marker='o', hist_kwds={'bins': 30}, s=30, alpha=.8)\n",
    "plt.show()"
   ]
  },
  {
   "cell_type": "markdown",
   "id": "09cb5296",
   "metadata": {},
   "source": [
    "### 3.5.3 Box plot"
   ]
  },
  {
   "cell_type": "code",
   "execution_count": 17,
   "id": "7b38116c",
   "metadata": {},
   "outputs": [
    {
     "data": {
      "image/png": "[encoded data removed]",
      "text/plain": [
       "<Figure size 640x480 with 1 Axes>"
      ]
     },
     "metadata": {},
     "output_type": "display_data"
    }
   ],
   "source": [
    "# Visual Python: Data Analysis > Data Info\n",
    "df_iris.plot(kind='box')\n",
    "plt.show()"
   ]
  },
  {
   "cell_type": "markdown",
   "id": "94cc93ad",
   "metadata": {},
   "source": [
    "### 3.5.4 Count plot"
   ]
  },
  {
   "cell_type": "code",
   "execution_count": 18,
   "id": "c4325c42",
   "metadata": {},
   "outputs": [
    {
     "data": {
      "image/png": "[encoded data removed]",
      "text/plain": [
       "<Figure size 640x480 with 1 Axes>"
      ]
     },
     "metadata": {},
     "output_type": "display_data"
    }
   ],
   "source": [
    "# Visual Python: Data Analysis > Data Info\n",
    "df_iris['variety'].value_counts().plot(kind='bar', rot=30)\n",
    "plt.show()"
   ]
  },
  {
   "cell_type": "markdown",
   "id": "cda554d1",
   "metadata": {},
   "source": [
    "# 4. Snippets"
   ]
  },
  {
   "cell_type": "code",
   "execution_count": 19,
   "id": "3fe1cd31",
   "metadata": {},
   "outputs": [],
   "source": [
    "# Visual Python: Data Analysis > Snippets\n",
    "def as_int(x):\n",
    "    \"\"\"\n",
    "    usage: df['col'] = df['col'].apply(as_int)\n",
    "    \"\"\"\n",
    "    if not isinstance(x, str):\n",
    "        return 0\n",
    "    else:\n",
    "        try:\n",
    "            result = int(x)\n",
    "            return result\n",
    "        except ValueError:\n",
    "            return 0.0"
   ]
  },
  {
   "cell_type": "code",
   "execution_count": 20,
   "id": "24e43967",
   "metadata": {},
   "outputs": [],
   "source": [
    "# Visual Python: Data Analysis > Snippets\n",
    "def as_int(x):\n",
    "    \"\"\"\n",
    "    usage: df['col'] = df['col'].apply(as_int)\n",
    "    \"\"\"\n",
    "    if not isinstance(x, str):\n",
    "        return 0\n",
    "    else:\n",
    "        try:\n",
    "            result = int(x)\n",
    "            return result\n",
    "        except ValueError:\n",
    "            return 0.0"
   ]
  },
  {
   "cell_type": "code",
   "execution_count": null,
   "id": "123bfba9",
   "metadata": {},
   "outputs": [],
   "source": []
  },
  {
   "cell_type": "markdown",
   "id": "504ca5d9",
   "metadata": {},
   "source": [
    "---"
   ]
  },
  {
   "cell_type": "code",
   "execution_count": 21,
   "id": "89299491",
   "metadata": {},
   "outputs": [],
   "source": [
    "# End of file"
   ]
  },
  {
   "cell_type": "code",
   "execution_count": null,
   "id": "4aaa567a",
   "metadata": {},
   "outputs": [],
   "source": []
  }
 ],
 "metadata": {
  "kernelspec": {
   "display_name": "Python 3 (ipykernel)",
   "language": "python",
   "name": "python3"
  },
  "language_info": {
   "codemirror_mode": {
    "name": "ipython",
    "version": 3
   },
   "file_extension": ".py",
   "mimetype": "text/x-python",
   "name": "python",
   "nbconvert_exporter": "python",
   "pygments_lexer": "ipython3",
   "version": "3.10.9"
  },
  "vp": {
   "vp_config_version": "1.0.0",
   "vp_menu_width": 273,
   "vp_note_display": false,
   "vp_note_width": 0,
   "vp_position": {
    "width": 278
   },
   "vp_section_display": false,
   "vp_signature": "VisualPython"
  }
 },
 "nbformat": 4,
 "nbformat_minor": 5
}
