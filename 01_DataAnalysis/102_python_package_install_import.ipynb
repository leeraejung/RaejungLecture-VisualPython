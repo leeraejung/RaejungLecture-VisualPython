{
 "cells": [
  {
   "cell_type": "markdown",
   "id": "157d40f4",
   "metadata": {},
   "source": [
    "<img src=\"https://i.esdrop.com/d/7o0dj05m8rnz/JNGCMedl18.png\" width=\"45%\">"
   ]
  },
  {
   "cell_type": "markdown",
   "id": "b7cdb853",
   "metadata": {},
   "source": [
    "# 1. Installing python package"
   ]
  },
  {
   "cell_type": "code",
   "execution_count": null,
   "id": "1c6f6990",
   "metadata": {},
   "outputs": [],
   "source": [
    "!pip install pandas"
   ]
  },
  {
   "cell_type": "code",
   "execution_count": null,
   "id": "955bc17c",
   "metadata": {},
   "outputs": [],
   "source": [
    "!pip uninstall -y pandas"
   ]
  },
  {
   "cell_type": "code",
   "execution_count": null,
   "id": "7bd1578d",
   "metadata": {},
   "outputs": [],
   "source": [
    "!pip install pandas==2.0.0"
   ]
  },
  {
   "cell_type": "code",
   "execution_count": null,
   "id": "acf2d0c2",
   "metadata": {},
   "outputs": [],
   "source": [
    "!pip install pandas  --upgrade"
   ]
  },
  {
   "cell_type": "markdown",
   "id": "f3a51d8f",
   "metadata": {},
   "source": [
    "# 2. Import python package"
   ]
  },
  {
   "cell_type": "code",
   "execution_count": null,
   "id": "21bcd649",
   "metadata": {},
   "outputs": [],
   "source": [
    "# Visual Python: Data Analysis > Import\n",
    "import numpy as np\n",
    "import pandas as pd\n",
    "import matplotlib.pyplot as plt\n",
    "%matplotlib inline\n",
    "import seaborn as sns"
   ]
  },
  {
   "cell_type": "code",
   "execution_count": null,
   "id": "cd040efa",
   "metadata": {},
   "outputs": [],
   "source": [
    "import scipy as sp\n",
    "sp.stats.norm()"
   ]
  },
  {
   "cell_type": "code",
   "execution_count": null,
   "id": "42cefda8",
   "metadata": {},
   "outputs": [],
   "source": [
    "from scipy import stats\n",
    "stats.norm()"
   ]
  },
  {
   "cell_type": "code",
   "execution_count": null,
   "id": "d3e86770",
   "metadata": {},
   "outputs": [],
   "source": [
    "import pandas as pd\n",
    "pd.DataFrame([1,2,3])"
   ]
  },
  {
   "cell_type": "code",
   "execution_count": null,
   "id": "5a83993b",
   "metadata": {},
   "outputs": [],
   "source": [
    "from pandas import DataFrame\n",
    "DataFrame([1,2,3])"
   ]
  },
  {
   "cell_type": "code",
   "execution_count": null,
   "id": "77aa20c4",
   "metadata": {},
   "outputs": [],
   "source": []
  },
  {
   "cell_type": "code",
   "execution_count": null,
   "id": "9d1c669a",
   "metadata": {},
   "outputs": [],
   "source": [
    "# End of file"
   ]
  },
  {
   "cell_type": "code",
   "execution_count": null,
   "id": "772a4f17",
   "metadata": {},
   "outputs": [],
   "source": []
  }
 ],
 "metadata": {
  "kernelspec": {
   "display_name": "Python 3 (ipykernel)",
   "language": "python",
   "name": "python3"
  },
  "language_info": {
   "codemirror_mode": {
    "name": "ipython",
    "version": 3
   },
   "file_extension": ".py",
   "mimetype": "text/x-python",
   "name": "python",
   "nbconvert_exporter": "python",
   "pygments_lexer": "ipython3",
   "version": "3.10.9"
  },
  "vp": {
   "vp_config_version": "1.0.0",
   "vp_menu_width": 273,
   "vp_note_display": false,
   "vp_note_width": 0,
   "vp_position": {
    "width": 278
   },
   "vp_section_display": false,
   "vp_signature": "VisualPython"
  }
 },
 "nbformat": 4,
 "nbformat_minor": 5
}
