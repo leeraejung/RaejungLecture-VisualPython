{
 "cells": [
  {
   "cell_type": "markdown",
   "id": "8bdca2fc",
   "metadata": {},
   "source": [
    "<img src=\"https://i.esdrop.com/d/7o0dj05m8rnz/JNGCMedl18.png\" width=\"45%\">"
   ]
  },
  {
   "cell_type": "markdown",
   "id": "cd261202",
   "metadata": {},
   "source": [
    "# Reliability Analysis"
   ]
  },
  {
   "cell_type": "markdown",
   "id": "040338e8",
   "metadata": {},
   "source": [
    "### Cronbach's α\n",
    "\n",
    "|Cronbach's α| | \n",
    "|:---|:---|\n",
    "| 0.90 <= α        |Excellent|\n",
    "| 0.80 <= α < 0.90 |Good|\n",
    "| 0.70 <= α < 0.80 |Acceptable|\n",
    "| 0.60 <= α < 0.70 |Questionable|\n",
    "| 0.50 <= α < 0.60 |Poor|\n",
    "|         α < 0.50 |Unacceptable|"
   ]
  },
  {
   "cell_type": "markdown",
   "id": "6513ce2a",
   "metadata": {},
   "source": [
    "---"
   ]
  },
  {
   "cell_type": "markdown",
   "id": "964c9e77",
   "metadata": {},
   "source": [
    "## Import Packages\n",
    "- Visual Python: Data Analysis > Import"
   ]
  },
  {
   "cell_type": "code",
   "execution_count": 1,
   "id": "2b0c3933",
   "metadata": {},
   "outputs": [],
   "source": [
    "# Visual Python: Data Analysis > Import\n",
    "import numpy as np\n",
    "import pandas as pd\n",
    "import matplotlib.pyplot as plt\n",
    "%matplotlib inline\n",
    "import seaborn as sns"
   ]
  },
  {
   "cell_type": "markdown",
   "id": "83c127e8",
   "metadata": {},
   "source": [
    "## 1 Reliability Analysis"
   ]
  },
  {
   "cell_type": "code",
   "execution_count": 2,
   "id": "637f12c3",
   "metadata": {},
   "outputs": [
    {
     "data": {
      "text/html": [
       "<div>\n",
       "<style scoped>\n",
       "    .dataframe tbody tr th:only-of-type {\n",
       "        vertical-align: middle;\n",
       "    }\n",
       "\n",
       "    .dataframe tbody tr th {\n",
       "        vertical-align: top;\n",
       "    }\n",
       "\n",
       "    .dataframe thead th {\n",
       "        text-align: right;\n",
       "    }\n",
       "</style>\n",
       "<table border=\"1\" class=\"dataframe\">\n",
       "  <thead>\n",
       "    <tr style=\"text-align: right;\">\n",
       "      <th></th>\n",
       "      <th>직무몰입1</th>\n",
       "      <th>직무몰입2</th>\n",
       "      <th>직무몰입3</th>\n",
       "      <th>직무몰입4</th>\n",
       "      <th>직무몰입5</th>\n",
       "      <th>직무몰입6</th>\n",
       "      <th>직무몰입7</th>\n",
       "    </tr>\n",
       "  </thead>\n",
       "  <tbody>\n",
       "    <tr>\n",
       "      <th>0</th>\n",
       "      <td>6.0</td>\n",
       "      <td>6.0</td>\n",
       "      <td>6.0</td>\n",
       "      <td>6.0</td>\n",
       "      <td>6.0</td>\n",
       "      <td>6.0</td>\n",
       "      <td>6.0</td>\n",
       "    </tr>\n",
       "    <tr>\n",
       "      <th>1</th>\n",
       "      <td>4.0</td>\n",
       "      <td>2.0</td>\n",
       "      <td>3.0</td>\n",
       "      <td>3.0</td>\n",
       "      <td>2.0</td>\n",
       "      <td>3.0</td>\n",
       "      <td>4.0</td>\n",
       "    </tr>\n",
       "    <tr>\n",
       "      <th>2</th>\n",
       "      <td>3.0</td>\n",
       "      <td>6.0</td>\n",
       "      <td>4.0</td>\n",
       "      <td>1.0</td>\n",
       "      <td>5.0</td>\n",
       "      <td>2.0</td>\n",
       "      <td>5.0</td>\n",
       "    </tr>\n",
       "    <tr>\n",
       "      <th>3</th>\n",
       "      <td>4.0</td>\n",
       "      <td>3.0</td>\n",
       "      <td>3.0</td>\n",
       "      <td>3.0</td>\n",
       "      <td>5.0</td>\n",
       "      <td>1.0</td>\n",
       "      <td>2.0</td>\n",
       "    </tr>\n",
       "    <tr>\n",
       "      <th>4</th>\n",
       "      <td>0.0</td>\n",
       "      <td>1.0</td>\n",
       "      <td>1.0</td>\n",
       "      <td>1.0</td>\n",
       "      <td>1.0</td>\n",
       "      <td>6.0</td>\n",
       "      <td>4.0</td>\n",
       "    </tr>\n",
       "    <tr>\n",
       "      <th>...</th>\n",
       "      <td>...</td>\n",
       "      <td>...</td>\n",
       "      <td>...</td>\n",
       "      <td>...</td>\n",
       "      <td>...</td>\n",
       "      <td>...</td>\n",
       "      <td>...</td>\n",
       "    </tr>\n",
       "    <tr>\n",
       "      <th>143</th>\n",
       "      <td>3.0</td>\n",
       "      <td>5.0</td>\n",
       "      <td>5.0</td>\n",
       "      <td>5.0</td>\n",
       "      <td>5.0</td>\n",
       "      <td>1.0</td>\n",
       "      <td>2.0</td>\n",
       "    </tr>\n",
       "    <tr>\n",
       "      <th>144</th>\n",
       "      <td>3.0</td>\n",
       "      <td>2.0</td>\n",
       "      <td>2.0</td>\n",
       "      <td>2.0</td>\n",
       "      <td>2.0</td>\n",
       "      <td>2.0</td>\n",
       "      <td>3.0</td>\n",
       "    </tr>\n",
       "    <tr>\n",
       "      <th>145</th>\n",
       "      <td>3.0</td>\n",
       "      <td>4.0</td>\n",
       "      <td>0.0</td>\n",
       "      <td>0.0</td>\n",
       "      <td>0.0</td>\n",
       "      <td>6.0</td>\n",
       "      <td>6.0</td>\n",
       "    </tr>\n",
       "    <tr>\n",
       "      <th>146</th>\n",
       "      <td>3.0</td>\n",
       "      <td>4.0</td>\n",
       "      <td>3.0</td>\n",
       "      <td>3.0</td>\n",
       "      <td>2.0</td>\n",
       "      <td>4.0</td>\n",
       "      <td>3.0</td>\n",
       "    </tr>\n",
       "    <tr>\n",
       "      <th>147</th>\n",
       "      <td>0.0</td>\n",
       "      <td>2.0</td>\n",
       "      <td>0.0</td>\n",
       "      <td>4.0</td>\n",
       "      <td>1.0</td>\n",
       "      <td>2.0</td>\n",
       "      <td>3.0</td>\n",
       "    </tr>\n",
       "  </tbody>\n",
       "</table>\n",
       "<p>148 rows × 7 columns</p>\n",
       "</div>"
      ],
      "text/plain": [
       "     직무몰입1  직무몰입2  직무몰입3  직무몰입4  직무몰입5  직무몰입6  직무몰입7\n",
       "0      6.0    6.0    6.0    6.0    6.0    6.0    6.0\n",
       "1      4.0    2.0    3.0    3.0    2.0    3.0    4.0\n",
       "2      3.0    6.0    4.0    1.0    5.0    2.0    5.0\n",
       "3      4.0    3.0    3.0    3.0    5.0    1.0    2.0\n",
       "4      0.0    1.0    1.0    1.0    1.0    6.0    4.0\n",
       "..     ...    ...    ...    ...    ...    ...    ...\n",
       "143    3.0    5.0    5.0    5.0    5.0    1.0    2.0\n",
       "144    3.0    2.0    2.0    2.0    2.0    2.0    3.0\n",
       "145    3.0    4.0    0.0    0.0    0.0    6.0    6.0\n",
       "146    3.0    4.0    3.0    3.0    2.0    4.0    3.0\n",
       "147    0.0    2.0    0.0    4.0    1.0    2.0    3.0\n",
       "\n",
       "[148 rows x 7 columns]"
      ]
     },
     "execution_count": 2,
     "metadata": {},
     "output_type": "execute_result"
    }
   ],
   "source": [
    "# Visual Python: Data Analysis > File\n",
    "df = pd.read_csv('./data/06_1_신뢰도분석.csv')\n",
    "df"
   ]
  },
  {
   "cell_type": "code",
   "execution_count": 3,
   "id": "cbd4d498",
   "metadata": {},
   "outputs": [],
   "source": [
    "# Visual Python: Reliability Analysis\n",
    "def vp_cronbach_alpha(data):\n",
    "    _corr = data.corr()\n",
    "    _N = data.shape[1]\n",
    "    _rs = np.array([])\n",
    "    for i, col in enumerate(_corr.columns):\n",
    "        _sum = _corr[col][i+1:].values\n",
    "        _rs  = np.append(_sum, _rs)\n",
    "    _mean = np.mean(_rs)\n",
    "    \n",
    "    return (_N*_mean)/(1+(_N-1)*_mean)"
   ]
  },
  {
   "cell_type": "code",
   "execution_count": 4,
   "id": "297759f6",
   "metadata": {},
   "outputs": [
    {
     "data": {
      "text/markdown": [
       "### Cronbach alpha"
      ],
      "text/plain": [
       "<IPython.core.display.Markdown object>"
      ]
     },
     "metadata": {},
     "output_type": "display_data"
    },
    {
     "data": {
      "text/html": [
       "<div>\n",
       "<style scoped>\n",
       "    .dataframe tbody tr th:only-of-type {\n",
       "        vertical-align: middle;\n",
       "    }\n",
       "\n",
       "    .dataframe tbody tr th {\n",
       "        vertical-align: top;\n",
       "    }\n",
       "\n",
       "    .dataframe thead th {\n",
       "        text-align: right;\n",
       "    }\n",
       "</style>\n",
       "<table border=\"1\" class=\"dataframe\">\n",
       "  <thead>\n",
       "    <tr style=\"text-align: right;\">\n",
       "      <th></th>\n",
       "      <th>Cronbach alpha</th>\n",
       "      <th>N</th>\n",
       "    </tr>\n",
       "  </thead>\n",
       "  <tbody>\n",
       "    <tr>\n",
       "      <th>Reliability statistics</th>\n",
       "      <td>0.714</td>\n",
       "      <td>7</td>\n",
       "    </tr>\n",
       "  </tbody>\n",
       "</table>\n",
       "</div>"
      ],
      "text/plain": [
       "                        Cronbach alpha  N\n",
       "Reliability statistics           0.714  7"
      ]
     },
     "metadata": {},
     "output_type": "display_data"
    },
    {
     "data": {
      "text/markdown": [
       "### Item-Total Statistics"
      ],
      "text/plain": [
       "<IPython.core.display.Markdown object>"
      ]
     },
     "metadata": {},
     "output_type": "display_data"
    },
    {
     "data": {
      "text/html": [
       "<div>\n",
       "<style scoped>\n",
       "    .dataframe tbody tr th:only-of-type {\n",
       "        vertical-align: middle;\n",
       "    }\n",
       "\n",
       "    .dataframe tbody tr th {\n",
       "        vertical-align: top;\n",
       "    }\n",
       "\n",
       "    .dataframe thead th {\n",
       "        text-align: right;\n",
       "    }\n",
       "</style>\n",
       "<table border=\"1\" class=\"dataframe\">\n",
       "  <thead>\n",
       "    <tr style=\"text-align: right;\">\n",
       "      <th></th>\n",
       "      <th>Scale Mean if Item Deleted</th>\n",
       "      <th>Scale Variance if Item Deleted</th>\n",
       "      <th>Corrected Item-Total Correlation</th>\n",
       "      <th>Cronbach Alpha if Item Deleted</th>\n",
       "    </tr>\n",
       "  </thead>\n",
       "  <tbody>\n",
       "    <tr>\n",
       "      <th>직무몰입1</th>\n",
       "      <td>19.932</td>\n",
       "      <td>29.383</td>\n",
       "      <td>0.622</td>\n",
       "      <td>0.629</td>\n",
       "    </tr>\n",
       "    <tr>\n",
       "      <th>직무몰입2</th>\n",
       "      <td>20.047</td>\n",
       "      <td>29.678</td>\n",
       "      <td>0.549</td>\n",
       "      <td>0.648</td>\n",
       "    </tr>\n",
       "    <tr>\n",
       "      <th>직무몰입3</th>\n",
       "      <td>19.723</td>\n",
       "      <td>29.317</td>\n",
       "      <td>0.630</td>\n",
       "      <td>0.626</td>\n",
       "    </tr>\n",
       "    <tr>\n",
       "      <th>직무몰입4</th>\n",
       "      <td>19.730</td>\n",
       "      <td>31.355</td>\n",
       "      <td>0.516</td>\n",
       "      <td>0.657</td>\n",
       "    </tr>\n",
       "    <tr>\n",
       "      <th>직무몰입5</th>\n",
       "      <td>19.689</td>\n",
       "      <td>30.365</td>\n",
       "      <td>0.591</td>\n",
       "      <td>0.637</td>\n",
       "    </tr>\n",
       "    <tr>\n",
       "      <th>직무몰입6</th>\n",
       "      <td>19.730</td>\n",
       "      <td>37.722</td>\n",
       "      <td>0.091</td>\n",
       "      <td>0.758</td>\n",
       "    </tr>\n",
       "    <tr>\n",
       "      <th>직무몰입7</th>\n",
       "      <td>19.595</td>\n",
       "      <td>38.773</td>\n",
       "      <td>0.056</td>\n",
       "      <td>0.766</td>\n",
       "    </tr>\n",
       "  </tbody>\n",
       "</table>\n",
       "</div>"
      ],
      "text/plain": [
       "       Scale Mean if Item Deleted  Scale Variance if Item Deleted  \\\n",
       "직무몰입1                      19.932                          29.383   \n",
       "직무몰입2                      20.047                          29.678   \n",
       "직무몰입3                      19.723                          29.317   \n",
       "직무몰입4                      19.730                          31.355   \n",
       "직무몰입5                      19.689                          30.365   \n",
       "직무몰입6                      19.730                          37.722   \n",
       "직무몰입7                      19.595                          38.773   \n",
       "\n",
       "       Corrected Item-Total Correlation  Cronbach Alpha if Item Deleted  \n",
       "직무몰입1                             0.622                           0.629  \n",
       "직무몰입2                             0.549                           0.648  \n",
       "직무몰입3                             0.630                           0.626  \n",
       "직무몰입4                             0.516                           0.657  \n",
       "직무몰입5                             0.591                           0.637  \n",
       "직무몰입6                             0.091                           0.758  \n",
       "직무몰입7                             0.056                           0.766  "
      ]
     },
     "metadata": {},
     "output_type": "display_data"
    }
   ],
   "source": [
    "# Visual Python: Reliability Analysis\n",
    "vp_df = df.dropna().copy()\n",
    "\n",
    "# Cronbach alpha\n",
    "from IPython.display import display, Markdown\n",
    "display(Markdown('### Cronbach alpha'))\n",
    "display(pd.DataFrame({'Cronbach alpha':vp_cronbach_alpha(vp_df), 'N':vp_df.shape[1]},index=['Reliability statistics']).round(3))\n",
    "\n",
    "# Item-Total Statistics\n",
    "_dfr = pd.DataFrame()\n",
    "for i, col in enumerate(vp_df.columns):\n",
    "    _sr = vp_df.drop(col,axis=1).sum(axis=1)\n",
    "    _df_t = pd.DataFrame(data={'Scale Mean if Item Deleted':_sr.mean(),'Scale Variance if Item Deleted':_sr.var(),\n",
    "                               'Corrected Item-Total Correlation':_sr.corr(vp_df[col]),\n",
    "                               'Cronbach Alpha if Item Deleted':vp_cronbach_alpha(vp_df.drop(col,axis=1))}, index=[col])\n",
    "    _dfr = pd.concat([_dfr, _df_t])\n",
    "display(Markdown('### Item-Total Statistics'))\n",
    "display(_dfr.round(3))"
   ]
  },
  {
   "cell_type": "markdown",
   "id": "9e81fca8",
   "metadata": {},
   "source": [
    "---"
   ]
  },
  {
   "cell_type": "code",
   "execution_count": 5,
   "id": "480b6793",
   "metadata": {},
   "outputs": [],
   "source": [
    "# End of file"
   ]
  },
  {
   "cell_type": "code",
   "execution_count": null,
   "id": "9c9d14a4",
   "metadata": {},
   "outputs": [],
   "source": []
  }
 ],
 "metadata": {
  "kernelspec": {
   "display_name": "Python 3 (ipykernel)",
   "language": "python",
   "name": "python3"
  },
  "language_info": {
   "codemirror_mode": {
    "name": "ipython",
    "version": 3
   },
   "file_extension": ".py",
   "mimetype": "text/x-python",
   "name": "python",
   "nbconvert_exporter": "python",
   "pygments_lexer": "ipython3",
   "version": "3.10.9"
  },
  "vp": {
   "vp_config_version": "1.0.0",
   "vp_menu_width": 273,
   "vp_note_display": false,
   "vp_note_width": 0,
   "vp_position": {
    "width": 278
   },
   "vp_section_display": false,
   "vp_signature": "VisualPython"
  }
 },
 "nbformat": 4,
 "nbformat_minor": 5
}
