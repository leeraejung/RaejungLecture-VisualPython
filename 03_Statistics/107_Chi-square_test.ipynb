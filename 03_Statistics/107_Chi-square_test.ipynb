{
 "cells": [
  {
   "cell_type": "markdown",
   "id": "8bdca2fc",
   "metadata": {},
   "source": [
    "<img src=\"https://i.esdrop.com/d/7o0dj05m8rnz/JNGCMedl18.png\" width=\"45%\">"
   ]
  },
  {
   "cell_type": "markdown",
   "id": "cd261202",
   "metadata": {},
   "source": [
    "# Chi-square test of independence "
   ]
  },
  {
   "cell_type": "markdown",
   "id": "c03b1c76",
   "metadata": {},
   "source": [
    "### Cramer's V \n",
    "\n",
    "|Cramer's V|Effect Size|\n",
    "|:---|:---|\n",
    "|0.01 ~ 0.09|Very Small|\n",
    "|0.10 ~ 0.29|Small|\n",
    "|0.30 ~ 0.49|Medium|\n",
    "|0.50 ~ 0.69|Large|\n",
    "|0.70 and above|Very Large|"
   ]
  },
  {
   "cell_type": "markdown",
   "id": "6513ce2a",
   "metadata": {},
   "source": [
    "---"
   ]
  },
  {
   "cell_type": "markdown",
   "id": "964c9e77",
   "metadata": {},
   "source": [
    "## Import Packages\n",
    "- Visual Python: Data Analysis > Import"
   ]
  },
  {
   "cell_type": "code",
   "execution_count": 1,
   "id": "2b0c3933",
   "metadata": {},
   "outputs": [],
   "source": [
    "# Visual Python: Data Analysis > Import\n",
    "import numpy as np\n",
    "import pandas as pd\n",
    "import matplotlib.pyplot as plt\n",
    "%matplotlib inline\n",
    "import seaborn as sns"
   ]
  },
  {
   "cell_type": "code",
   "execution_count": 2,
   "id": "87b6b482",
   "metadata": {},
   "outputs": [],
   "source": [
    "from matplotlib import rcParams\n",
    "rcParams['font.family'] = 'New Gulim'\n",
    "rcParams['axes.unicode_minus'] = False"
   ]
  },
  {
   "cell_type": "markdown",
   "id": "83c127e8",
   "metadata": {},
   "source": [
    "## 1 Chi-square test of independence"
   ]
  },
  {
   "cell_type": "code",
   "execution_count": 3,
   "id": "bec19f3b",
   "metadata": {},
   "outputs": [
    {
     "data": {
      "text/html": [
       "<div>\n",
       "<style scoped>\n",
       "    .dataframe tbody tr th:only-of-type {\n",
       "        vertical-align: middle;\n",
       "    }\n",
       "\n",
       "    .dataframe tbody tr th {\n",
       "        vertical-align: top;\n",
       "    }\n",
       "\n",
       "    .dataframe thead th {\n",
       "        text-align: right;\n",
       "    }\n",
       "</style>\n",
       "<table border=\"1\" class=\"dataframe\">\n",
       "  <thead>\n",
       "    <tr style=\"text-align: right;\">\n",
       "      <th></th>\n",
       "      <th>세탁기크기</th>\n",
       "      <th>가족규모</th>\n",
       "    </tr>\n",
       "  </thead>\n",
       "  <tbody>\n",
       "    <tr>\n",
       "      <th>0</th>\n",
       "      <td>소형</td>\n",
       "      <td>1-2명</td>\n",
       "    </tr>\n",
       "    <tr>\n",
       "      <th>1</th>\n",
       "      <td>소형</td>\n",
       "      <td>1-2명</td>\n",
       "    </tr>\n",
       "    <tr>\n",
       "      <th>2</th>\n",
       "      <td>소형</td>\n",
       "      <td>1-2명</td>\n",
       "    </tr>\n",
       "    <tr>\n",
       "      <th>3</th>\n",
       "      <td>소형</td>\n",
       "      <td>1-2명</td>\n",
       "    </tr>\n",
       "    <tr>\n",
       "      <th>4</th>\n",
       "      <td>소형</td>\n",
       "      <td>1-2명</td>\n",
       "    </tr>\n",
       "    <tr>\n",
       "      <th>...</th>\n",
       "      <td>...</td>\n",
       "      <td>...</td>\n",
       "    </tr>\n",
       "    <tr>\n",
       "      <th>295</th>\n",
       "      <td>대형</td>\n",
       "      <td>5명이상</td>\n",
       "    </tr>\n",
       "    <tr>\n",
       "      <th>296</th>\n",
       "      <td>대형</td>\n",
       "      <td>5명이상</td>\n",
       "    </tr>\n",
       "    <tr>\n",
       "      <th>297</th>\n",
       "      <td>대형</td>\n",
       "      <td>5명이상</td>\n",
       "    </tr>\n",
       "    <tr>\n",
       "      <th>298</th>\n",
       "      <td>대형</td>\n",
       "      <td>5명이상</td>\n",
       "    </tr>\n",
       "    <tr>\n",
       "      <th>299</th>\n",
       "      <td>대형</td>\n",
       "      <td>5명이상</td>\n",
       "    </tr>\n",
       "  </tbody>\n",
       "</table>\n",
       "<p>300 rows × 2 columns</p>\n",
       "</div>"
      ],
      "text/plain": [
       "    세탁기크기  가족규모\n",
       "0      소형  1-2명\n",
       "1      소형  1-2명\n",
       "2      소형  1-2명\n",
       "3      소형  1-2명\n",
       "4      소형  1-2명\n",
       "..    ...   ...\n",
       "295    대형  5명이상\n",
       "296    대형  5명이상\n",
       "297    대형  5명이상\n",
       "298    대형  5명이상\n",
       "299    대형  5명이상\n",
       "\n",
       "[300 rows x 2 columns]"
      ]
     },
     "execution_count": 3,
     "metadata": {},
     "output_type": "execute_result"
    }
   ],
   "source": [
    "# Visual Python: Data Analysis > File\n",
    "df = pd.read_csv('./data/07_1_교차분석.csv')\n",
    "df"
   ]
  },
  {
   "cell_type": "code",
   "execution_count": 4,
   "id": "8c54050f",
   "metadata": {},
   "outputs": [
    {
     "data": {
      "image/png": "[encoded data removed]",
      "text/plain": [
       "<Figure size 640x480 with 1 Axes>"
      ]
     },
     "metadata": {},
     "output_type": "display_data"
    },
    {
     "data": {
      "text/markdown": [
       "### Cross tabulation"
      ],
      "text/plain": [
       "<IPython.core.display.Markdown object>"
      ]
     },
     "metadata": {},
     "output_type": "display_data"
    },
    {
     "data": {
      "text/html": [
       "<div>\n",
       "<style scoped>\n",
       "    .dataframe tbody tr th:only-of-type {\n",
       "        vertical-align: middle;\n",
       "    }\n",
       "\n",
       "    .dataframe tbody tr th {\n",
       "        vertical-align: top;\n",
       "    }\n",
       "\n",
       "    .dataframe thead th {\n",
       "        text-align: right;\n",
       "    }\n",
       "</style>\n",
       "<table border=\"1\" class=\"dataframe\">\n",
       "  <thead>\n",
       "    <tr style=\"text-align: right;\">\n",
       "      <th></th>\n",
       "      <th>가족규모</th>\n",
       "      <th>1-2명</th>\n",
       "      <th>3-4명</th>\n",
       "      <th>5명이상</th>\n",
       "      <th>Total</th>\n",
       "    </tr>\n",
       "    <tr>\n",
       "      <th>세탁기크기</th>\n",
       "      <th></th>\n",
       "      <th></th>\n",
       "      <th></th>\n",
       "      <th></th>\n",
       "      <th></th>\n",
       "    </tr>\n",
       "  </thead>\n",
       "  <tbody>\n",
       "    <tr>\n",
       "      <th rowspan=\"2\" valign=\"top\">대형</th>\n",
       "      <th>Count</th>\n",
       "      <td>5.0</td>\n",
       "      <td>41.0</td>\n",
       "      <td>59.0</td>\n",
       "      <td>105.0</td>\n",
       "    </tr>\n",
       "    <tr>\n",
       "      <th>Expected count</th>\n",
       "      <td>14.0</td>\n",
       "      <td>49.0</td>\n",
       "      <td>42.0</td>\n",
       "      <td>105.0</td>\n",
       "    </tr>\n",
       "    <tr>\n",
       "      <th rowspan=\"2\" valign=\"top\">소형</th>\n",
       "      <th>Count</th>\n",
       "      <td>25.0</td>\n",
       "      <td>37.0</td>\n",
       "      <td>8.0</td>\n",
       "      <td>70.0</td>\n",
       "    </tr>\n",
       "    <tr>\n",
       "      <th>Expected count</th>\n",
       "      <td>9.3</td>\n",
       "      <td>32.7</td>\n",
       "      <td>28.0</td>\n",
       "      <td>70.0</td>\n",
       "    </tr>\n",
       "    <tr>\n",
       "      <th rowspan=\"2\" valign=\"top\">중형</th>\n",
       "      <th>Count</th>\n",
       "      <td>10.0</td>\n",
       "      <td>62.0</td>\n",
       "      <td>53.0</td>\n",
       "      <td>125.0</td>\n",
       "    </tr>\n",
       "    <tr>\n",
       "      <th>Expected count</th>\n",
       "      <td>16.7</td>\n",
       "      <td>58.3</td>\n",
       "      <td>50.0</td>\n",
       "      <td>125.0</td>\n",
       "    </tr>\n",
       "    <tr>\n",
       "      <th rowspan=\"2\" valign=\"top\">Total</th>\n",
       "      <th>Count</th>\n",
       "      <td>40.0</td>\n",
       "      <td>140.0</td>\n",
       "      <td>120.0</td>\n",
       "      <td>300.0</td>\n",
       "    </tr>\n",
       "    <tr>\n",
       "      <th>Expected count</th>\n",
       "      <td>40.0</td>\n",
       "      <td>140.0</td>\n",
       "      <td>120.0</td>\n",
       "      <td>300.0</td>\n",
       "    </tr>\n",
       "  </tbody>\n",
       "</table>\n",
       "</div>"
      ],
      "text/plain": [
       "가족규모                  1-2명   3-4명   5명이상  Total\n",
       "세탁기크기                                          \n",
       "대형    Count            5.0   41.0   59.0  105.0\n",
       "      Expected count  14.0   49.0   42.0  105.0\n",
       "소형    Count           25.0   37.0    8.0   70.0\n",
       "      Expected count   9.3   32.7   28.0   70.0\n",
       "중형    Count           10.0   62.0   53.0  125.0\n",
       "      Expected count  16.7   58.3   50.0  125.0\n",
       "Total Count           40.0  140.0  120.0  300.0\n",
       "      Expected count  40.0  140.0  120.0  300.0"
      ]
     },
     "metadata": {},
     "output_type": "display_data"
    },
    {
     "data": {
      "text/markdown": [
       "### Chi-square test"
      ],
      "text/plain": [
       "<IPython.core.display.Markdown object>"
      ]
     },
     "metadata": {},
     "output_type": "display_data"
    },
    {
     "data": {
      "text/html": [
       "<div>\n",
       "<style scoped>\n",
       "    .dataframe tbody tr th:only-of-type {\n",
       "        vertical-align: middle;\n",
       "    }\n",
       "\n",
       "    .dataframe tbody tr th {\n",
       "        vertical-align: top;\n",
       "    }\n",
       "\n",
       "    .dataframe thead th {\n",
       "        text-align: right;\n",
       "    }\n",
       "</style>\n",
       "<table border=\"1\" class=\"dataframe\">\n",
       "  <thead>\n",
       "    <tr style=\"text-align: right;\">\n",
       "      <th></th>\n",
       "      <th>Value</th>\n",
       "      <th>df</th>\n",
       "      <th>p-value(two-sided)</th>\n",
       "    </tr>\n",
       "  </thead>\n",
       "  <tbody>\n",
       "    <tr>\n",
       "      <th>Pearson Chi-square</th>\n",
       "      <td>58.208095</td>\n",
       "      <td>4.0</td>\n",
       "      <td>6.900771e-12</td>\n",
       "    </tr>\n",
       "    <tr>\n",
       "      <th>Likelihood ratio</th>\n",
       "      <td>57.148587</td>\n",
       "      <td>4.0</td>\n",
       "      <td>1.151480e-11</td>\n",
       "    </tr>\n",
       "    <tr>\n",
       "      <th>N of valid cases</th>\n",
       "      <td>300.000000</td>\n",
       "      <td>NaN</td>\n",
       "      <td>NaN</td>\n",
       "    </tr>\n",
       "  </tbody>\n",
       "</table>\n",
       "</div>"
      ],
      "text/plain": [
       "                         Value   df  p-value(two-sided)\n",
       "Pearson Chi-square   58.208095  4.0        6.900771e-12\n",
       "Likelihood ratio     57.148587  4.0        1.151480e-11\n",
       "N of valid cases    300.000000  NaN                 NaN"
      ]
     },
     "metadata": {},
     "output_type": "display_data"
    },
    {
     "data": {
      "text/markdown": [
       "### Cramers V coefficient"
      ],
      "text/plain": [
       "<IPython.core.display.Markdown object>"
      ]
     },
     "metadata": {},
     "output_type": "display_data"
    },
    {
     "data": {
      "text/html": [
       "<div>\n",
       "<style scoped>\n",
       "    .dataframe tbody tr th:only-of-type {\n",
       "        vertical-align: middle;\n",
       "    }\n",
       "\n",
       "    .dataframe tbody tr th {\n",
       "        vertical-align: top;\n",
       "    }\n",
       "\n",
       "    .dataframe thead th {\n",
       "        text-align: right;\n",
       "    }\n",
       "</style>\n",
       "<table border=\"1\" class=\"dataframe\">\n",
       "  <thead>\n",
       "    <tr style=\"text-align: right;\">\n",
       "      <th></th>\n",
       "      <th>Value</th>\n",
       "    </tr>\n",
       "  </thead>\n",
       "  <tbody>\n",
       "    <tr>\n",
       "      <th>Cramers V coefficient</th>\n",
       "      <td>0.31147</td>\n",
       "    </tr>\n",
       "  </tbody>\n",
       "</table>\n",
       "</div>"
      ],
      "text/plain": [
       "                         Value\n",
       "Cramers V coefficient  0.31147"
      ]
     },
     "metadata": {},
     "output_type": "display_data"
    }
   ],
   "source": [
    "# Visual Python: Chi-square test\n",
    "vp_df = df.dropna().copy()\n",
    "\n",
    "# Count plot\n",
    "import seaborn as sns\n",
    "import warnings\n",
    "with warnings.catch_warnings():\n",
    "    warnings.simplefilter(action='ignore', category=Warning)\n",
    "    sns.countplot(data=vp_df, x='세탁기크기', hue='가족규모')\n",
    "    plt.show()\n",
    "\n",
    "# Chi-square test of independence\n",
    "from IPython.display import display, Markdown\n",
    "from scipy import stats\n",
    "_obs  = pd.crosstab(index=vp_df['세탁기크기'], columns=vp_df['가족규모'])\n",
    "_res1 = stats.chi2_contingency(_obs)\n",
    "_res2 = stats.chi2_contingency(_obs, lambda_='log-likelihood')\n",
    "\n",
    "# Cross tabulation: Count\n",
    "_dfc = pd.crosstab(index=vp_df['세탁기크기'],columns=vp_df['가족규모'],margins=True,margins_name='Total')\n",
    "_dfc = _dfc.reset_index().reset_index()\n",
    "_dfc[' '] = 'Count'\n",
    "\n",
    "# Cross tabulation: Expected count\n",
    "_dfe = pd.DataFrame(_res1.expected_freq, index=_obs.index, columns=_obs.columns).round(1)\n",
    "_dfe.loc['Total',:] = _dfe.sum(axis=0)\n",
    "_dfe.loc[:,'Total'] = _dfe.sum(axis=1)\n",
    "_dfe = _dfe.reset_index().reset_index()\n",
    "_dfe[' '] = 'Expected count'\n",
    "\n",
    "# Cross tabulation: Count + Expected count\n",
    "display(Markdown('### Cross tabulation'))\n",
    "display(pd.concat([_dfc, _dfe]).set_index(['세탁기크기',' ']).sort_values('index').drop('index',axis=1))\n",
    "\n",
    "# Chi-square test\n",
    "display(Markdown('### Chi-square test'))\n",
    "display(pd.DataFrame(data = {'Value':[_res1.statistic,_res2.statistic,vp_df.dropna().shape[0]],\n",
    "                             'df':[_res1.dof,_res2.dof,np.nan],\n",
    "                             'p-value(two-sided)':[_res1.pvalue,_res2.pvalue,np.nan]},\n",
    "                     index= ['Pearson Chi-square','Likelihood ratio','N of valid cases']))\n",
    "\n",
    "# Cramers' V coefficient\n",
    "_X2 = stats.chi2_contingency(_obs)[0]\n",
    "_sum = _obs.sum().sum()\n",
    "_minDim = min(_obs.shape)-1\n",
    "display(Markdown('### Cramers V coefficient'))\n",
    "display(pd.DataFrame(data={'Value':np.sqrt((_X2/_sum) / _minDim)}, index=['Cramers V coefficient']))"
   ]
  },
  {
   "cell_type": "markdown",
   "id": "9e81fca8",
   "metadata": {},
   "source": [
    "---"
   ]
  },
  {
   "cell_type": "code",
   "execution_count": 5,
   "id": "480b6793",
   "metadata": {},
   "outputs": [],
   "source": [
    "# End of file"
   ]
  },
  {
   "cell_type": "code",
   "execution_count": null,
   "id": "9c9d14a4",
   "metadata": {},
   "outputs": [],
   "source": []
  }
 ],
 "metadata": {
  "kernelspec": {
   "display_name": "Python 3 (ipykernel)",
   "language": "python",
   "name": "python3"
  },
  "language_info": {
   "codemirror_mode": {
    "name": "ipython",
    "version": 3
   },
   "file_extension": ".py",
   "mimetype": "text/x-python",
   "name": "python",
   "nbconvert_exporter": "python",
   "pygments_lexer": "ipython3",
   "version": "3.10.9"
  },
  "vp": {
   "vp_config_version": "1.0.0",
   "vp_menu_width": 273,
   "vp_note_display": false,
   "vp_note_width": 0,
   "vp_position": {
    "width": 278
   },
   "vp_section_display": false,
   "vp_signature": "VisualPython"
  }
 },
 "nbformat": 4,
 "nbformat_minor": 5
}
